{
  "cells": [
    {
      "cell_type": "markdown",
      "metadata": {
        "id": "view-in-github",
        "colab_type": "text"
      },
      "source": [
        "<a href=\"https://colab.research.google.com/github/jin2-web/aiSmartPlatform/blob/master/1_numpy(Student)_ipynb%EC%9D%98_%EC%82%AC%EB%B3%B8.ipynb\" target=\"_parent\"><img src=\"https://colab.research.google.com/assets/colab-badge.svg\" alt=\"Open In Colab\"/></a>"
      ]
    },
    {
      "cell_type": "code",
      "execution_count": null,
      "metadata": {
        "id": "Sgk4JyEdE6g0"
      },
      "outputs": [],
      "source": [
        "import pandas\n",
        "# numpy -> pandas -> matplotlib(시각화)\n",
        "#       -> sklearn (ML)\n",
        "#       -> kaggle\n",
        "#       -> DL (CNN, RNN, GAN, Yolo5)\n",
        "#       -> papago API\n",
        "#       프로젝트"
      ]
    },
    {
      "cell_type": "markdown",
      "metadata": {
        "id": "wNIg_ZysE6g3"
      },
      "source": [
        "# Numpy\n",
        "- Numerical Python\n",
        "- 산술 계산을 위한 패키지\n",
        "    - 다차원 배열인 ndarray는 빠른 배열 계산과 유연한 브로드캐스팅 기능을 제공한다.\n",
        "    - 반복문을 작성할 필요 없이 전체 데이터 배열을 빠르게 계산할 수 있는 표준 수학 함수\n",
        "    - 선형대수, 난수 생성기, 푸리에 변환 가능\n",
        "    \n",
        "- Numpy는 일반적인 산술 데이터 처리를 위한 기본 라이브러리를 제공하기때문에 통계나 분석데이터를 처리하기 위해선 Pandas를 사용해야 한다.\n",
        "- Numpy가 파이썬 산술 계산 영역에서 중요한 위치를 차지하는 이유중 하나는 대용량 데이터 배열을 효율적으로 다룰수 있도록 설계되어 있다."
      ]
    },
    {
      "cell_type": "code",
      "execution_count": null,
      "metadata": {
        "id": "1bu_jbTVE6g6"
      },
      "outputs": [],
      "source": [
        "import numpy as np\n",
        "# numpy 를 np라는 이름으로 사용하겠다."
      ]
    },
    {
      "cell_type": "code",
      "execution_count": null,
      "metadata": {
        "id": "O42CdOrlE6g7"
      },
      "outputs": [],
      "source": [
        "my_arr = np.arange(1000000)"
      ]
    },
    {
      "cell_type": "code",
      "execution_count": null,
      "metadata": {
        "id": "6pJ7I3L6E6g8"
      },
      "outputs": [],
      "source": [
        "my_list = list(range(1000000))"
      ]
    },
    {
      "cell_type": "code",
      "execution_count": null,
      "metadata": {
        "id": "itzpK2NoE6g8",
        "outputId": "a23137af-9d1d-4ee9-92ca-44adc89e52bb"
      },
      "outputs": [
        {
          "name": "stdout",
          "output_type": "stream",
          "text": [
            "[     0      1      2 ... 999997 999998 999999]\n",
            "<class 'numpy.ndarray'>\n"
          ]
        }
      ],
      "source": [
        "print(my_arr)\n",
        "print(type(my_arr))"
      ]
    },
    {
      "cell_type": "code",
      "execution_count": null,
      "metadata": {
        "id": "pYZmuDTlE6g-"
      },
      "outputs": [],
      "source": [
        "print(my_list)"
      ]
    },
    {
      "cell_type": "code",
      "source": [],
      "metadata": {
        "id": "EBhwnAy_wkzo"
      },
      "execution_count": null,
      "outputs": []
    },
    {
      "cell_type": "code",
      "execution_count": null,
      "metadata": {
        "id": "FC21qL86E6g_",
        "outputId": "173e4daf-dc21-4036-fcc1-9e12a4b45153"
      },
      "outputs": [
        {
          "name": "stdout",
          "output_type": "stream",
          "text": [
            "CPU times: user 0 ns, sys: 0 ns, total: 0 ns\n",
            "Wall time: 14.5 µs\n"
          ]
        }
      ],
      "source": [
        "%time\n",
        "for _ in range(1000):\n",
        "    my_arr2 = my_arr*2"
      ]
    },
    {
      "cell_type": "code",
      "execution_count": null,
      "metadata": {
        "id": "a2rSrCPsE6g_",
        "outputId": "85ea1cba-d9eb-4481-d586-b743fdef3ffe"
      },
      "outputs": [
        {
          "data": {
            "text/plain": [
              "array([ 0,  2,  4,  6,  8, 10, 12, 14, 16, 18, 20, 22, 24, 26, 28, 30, 32,\n",
              "       34, 36, 38])"
            ]
          },
          "execution_count": 13,
          "metadata": {},
          "output_type": "execute_result"
        }
      ],
      "source": [
        "my_arr2[:20]"
      ]
    },
    {
      "cell_type": "code",
      "execution_count": null,
      "metadata": {
        "id": "HbDYRJ5jE6hA",
        "outputId": "21b419e7-8a71-4f3a-fee1-9659940a8dc4"
      },
      "outputs": [
        {
          "name": "stdout",
          "output_type": "stream",
          "text": [
            "CPU times: user 0 ns, sys: 0 ns, total: 0 ns\n",
            "Wall time: 5.96 µs\n"
          ]
        }
      ],
      "source": [
        "%time\n",
        "for _ in range(1000):\n",
        "    my_list2 = [i*2 for i in my_list]"
      ]
    },
    {
      "cell_type": "code",
      "execution_count": null,
      "metadata": {
        "id": "wtTylLgIE6hB",
        "outputId": "44002aaa-7d42-4b62-c2b4-7c6ffb43bc43"
      },
      "outputs": [
        {
          "data": {
            "text/plain": [
              "[0, 2, 4, 6, 8, 10, 12, 14, 16, 18, 20, 22, 24, 26, 28, 30, 32, 34, 36, 38]"
            ]
          },
          "execution_count": 15,
          "metadata": {},
          "output_type": "execute_result"
        }
      ],
      "source": [
        "my_list2[:20]"
      ]
    },
    {
      "cell_type": "markdown",
      "metadata": {
        "id": "5RM6c1RSE6hB"
      },
      "source": [
        "### Numpy ndarray : 다차원 배열 객체\n",
        "- Numpy 는 ndarray라고 하는 N차원 배열 객체를 사용한다.\n",
        "- 배열은 스칼라 원소 간의 연산에서 사용하는 문법과 비슷한 방식을 사용해 전체 데이터 블록에 수학적인 연산을 수행할 수 있도록 해준다.\n"
      ]
    },
    {
      "cell_type": "code",
      "execution_count": null,
      "metadata": {
        "id": "0JD0mT8HE6hC"
      },
      "outputs": [],
      "source": [
        "# array를 랜덤한 숫자로 만든다.\n",
        "data_0 = np.random.randn(3)"
      ]
    },
    {
      "cell_type": "code",
      "execution_count": null,
      "metadata": {
        "id": "_mQDWspVE6hC",
        "outputId": "dafb3327-7ca6-49f0-f7e6-34b751ebc8d5"
      },
      "outputs": [
        {
          "data": {
            "text/plain": [
              "(3,)"
            ]
          },
          "execution_count": 36,
          "metadata": {},
          "output_type": "execute_result"
        }
      ],
      "source": [
        "data_0.shape"
      ]
    },
    {
      "cell_type": "code",
      "execution_count": null,
      "metadata": {
        "id": "_GihOQy3E6hC",
        "outputId": "e9fa4616-f8bc-42e8-f136-9cb497fefbed"
      },
      "outputs": [
        {
          "data": {
            "text/plain": [
              "array([-0.00312177, -1.41380401,  1.74448827])"
            ]
          },
          "execution_count": 37,
          "metadata": {},
          "output_type": "execute_result"
        }
      ],
      "source": [
        "data_0"
      ]
    },
    {
      "cell_type": "code",
      "execution_count": null,
      "metadata": {
        "id": "egzmfUBrE6hD"
      },
      "outputs": [],
      "source": [
        "data_1 = np.random.randn(1,10)"
      ]
    },
    {
      "cell_type": "code",
      "execution_count": null,
      "metadata": {
        "id": "qTdnMVjIE6hD",
        "outputId": "77e48810-41e9-4185-9206-d4ce921ce6fa"
      },
      "outputs": [
        {
          "data": {
            "text/plain": [
              "(1, 10)"
            ]
          },
          "execution_count": 30,
          "metadata": {},
          "output_type": "execute_result"
        }
      ],
      "source": [
        "data_1.shape"
      ]
    },
    {
      "cell_type": "code",
      "execution_count": null,
      "metadata": {
        "id": "2XP59CqKE6hD"
      },
      "outputs": [],
      "source": [
        "data_2 = np.random.randn(3,10)"
      ]
    },
    {
      "cell_type": "code",
      "execution_count": null,
      "metadata": {
        "id": "EhuTUmvnE6hD",
        "outputId": "34e0f18b-42c3-4d32-d69b-32de4f5fb65d"
      },
      "outputs": [
        {
          "data": {
            "text/plain": [
              "(3, 10)"
            ]
          },
          "execution_count": 39,
          "metadata": {},
          "output_type": "execute_result"
        }
      ],
      "source": [
        "data_2.shape"
      ]
    },
    {
      "cell_type": "code",
      "execution_count": null,
      "metadata": {
        "id": "yiXwdhmCE6hD",
        "outputId": "60590dc5-7ca9-4352-ce58-c5345ba7c660"
      },
      "outputs": [
        {
          "data": {
            "text/plain": [
              "array([[ 0.56761715, -0.1923818 ,  0.33418451,  2.24301696,  0.05454767,\n",
              "         0.80690537,  0.53598461, -0.30128834, -0.34231456, -0.72217612],\n",
              "       [ 0.01306142, -1.06824885,  0.24412549, -1.53657753,  0.16806671,\n",
              "         1.09814835, -0.02108753,  1.64269635,  1.66883961, -0.44561428],\n",
              "       [ 0.31704211,  0.76726542, -0.43436576,  0.42810237, -1.94417646,\n",
              "         0.5046288 , -0.22883018, -1.37272761, -0.23040958, -0.48043605]])"
            ]
          },
          "execution_count": 40,
          "metadata": {},
          "output_type": "execute_result"
        }
      ],
      "source": [
        "data_2"
      ]
    },
    {
      "cell_type": "code",
      "execution_count": null,
      "metadata": {
        "id": "XwYgSdg2E6hE"
      },
      "outputs": [],
      "source": [
        "data_3 = np.random.randn(3,10,5)"
      ]
    },
    {
      "cell_type": "code",
      "execution_count": null,
      "metadata": {
        "id": "pTaupMZNE6hE",
        "outputId": "9b1e1526-99c3-49b9-99e2-b50341d15d76"
      },
      "outputs": [
        {
          "data": {
            "text/plain": [
              "array([[[-2.18466771,  1.02468733,  0.08352777, -0.68018293,\n",
              "         -0.9154779 ],\n",
              "        [ 0.79974983, -0.11263065, -1.54430238, -0.29798157,\n",
              "          2.31140484],\n",
              "        [-0.42612259,  0.96006093,  0.29873491, -0.00747056,\n",
              "         -0.26304483],\n",
              "        [ 0.96431225, -1.32523822,  2.31626755,  1.22554365,\n",
              "          0.16116469],\n",
              "        [-2.29775076,  0.98153622,  0.20352441,  0.14794872,\n",
              "         -0.83791595],\n",
              "        [ 0.73855414,  0.07015762, -1.18770293, -1.19723938,\n",
              "          1.76056378],\n",
              "        [-0.61587874, -0.34554301,  1.19674694,  0.25279249,\n",
              "          0.95171916],\n",
              "        [-0.06429143,  0.55729197, -1.50402082, -0.88450853,\n",
              "         -0.10124541],\n",
              "        [ 1.55577532,  0.06496572, -0.84691804,  0.77928092,\n",
              "          0.09175235],\n",
              "        [-1.05672416, -1.15402629,  1.82289256, -0.47263472,\n",
              "          0.35348123]],\n",
              "\n",
              "       [[-0.12349629, -0.43216362, -0.20124702, -0.87850405,\n",
              "         -0.74534158],\n",
              "        [ 0.363583  , -0.58210399,  1.03367286,  0.781989  ,\n",
              "          0.52964701],\n",
              "        [ 0.52150054, -0.55312421, -1.1007053 , -1.08716414,\n",
              "          0.46768464],\n",
              "        [-0.47924369, -1.33345487,  1.42893243,  1.84587471,\n",
              "          0.96182525],\n",
              "        [-0.28762163,  1.04730584, -0.13546572,  1.40400085,\n",
              "          1.14198788],\n",
              "        [ 1.24683497,  0.67797217, -0.11353056, -1.47736893,\n",
              "         -0.63408941],\n",
              "        [ 2.73054211,  1.17195541, -1.8263434 ,  1.48747612,\n",
              "         -1.15146768],\n",
              "        [ 0.19106632, -0.86442447, -1.44921523,  2.18961998,\n",
              "         -1.21121913],\n",
              "        [-0.64494231,  0.68462311, -0.01216387,  0.11576115,\n",
              "         -1.05072682],\n",
              "        [ 0.05265824,  0.03241131,  1.51971513, -0.7095212 ,\n",
              "          0.64185488]],\n",
              "\n",
              "       [[ 0.94538416,  1.77889641, -0.1472809 ,  0.97995152,\n",
              "         -2.25184129],\n",
              "        [-0.56057922,  1.25339121, -0.6505107 , -0.47084683,\n",
              "         -1.98071641],\n",
              "        [ 1.20438428,  0.73897799, -0.84451437, -0.84926348,\n",
              "          1.04209377],\n",
              "        [ 2.03416775,  0.94683362,  1.78904554, -0.09682052,\n",
              "         -0.0966056 ],\n",
              "        [ 0.39280113, -0.20257206, -1.40018912,  0.06897942,\n",
              "         -0.15261669],\n",
              "        [-1.2666429 ,  1.3242534 ,  1.17193256, -0.91210557,\n",
              "         -0.51088209],\n",
              "        [ 0.8721651 , -1.3949036 ,  0.45053521, -0.22430768,\n",
              "         -1.17766177],\n",
              "        [-0.86435925,  0.51066971, -1.27189255,  1.25457427,\n",
              "         -0.06938455],\n",
              "        [-0.51434004, -0.8518856 , -0.86371735, -0.24163414,\n",
              "         -0.14958856],\n",
              "        [-0.59003104, -0.5790469 , -1.55180327, -1.34517827,\n",
              "         -0.4615713 ]]])"
            ]
          },
          "execution_count": 44,
          "metadata": {},
          "output_type": "execute_result"
        }
      ],
      "source": [
        "data_3"
      ]
    },
    {
      "cell_type": "markdown",
      "metadata": {
        "id": "PTQ_bfQKE6hE"
      },
      "source": [
        "### ndarray 생성하기1\n",
        "- array 함수를 이용해 배열을 생성할 수 있다."
      ]
    },
    {
      "cell_type": "code",
      "execution_count": null,
      "metadata": {
        "id": "lw-EIrzRE6hF"
      },
      "outputs": [],
      "source": [
        "data_4 = [6,7,8,3,4,2]"
      ]
    },
    {
      "cell_type": "code",
      "execution_count": null,
      "metadata": {
        "id": "K9zI3nIGE6hF",
        "outputId": "acfb8752-3434-40bb-9d45-3dff791989e2",
        "colab": {
          "base_uri": "https://localhost:8080/"
        }
      },
      "outputs": [
        {
          "output_type": "execute_result",
          "data": {
            "text/plain": [
              "list"
            ]
          },
          "metadata": {},
          "execution_count": 2
        }
      ],
      "source": [
        "type(data_4)"
      ]
    },
    {
      "cell_type": "code",
      "execution_count": null,
      "metadata": {
        "id": "aTuw7fRZE6hF",
        "colab": {
          "base_uri": "https://localhost:8080/",
          "height": 172
        },
        "outputId": "d75e16ce-2b78-424a-8922-91f51de7cd20"
      },
      "outputs": [
        {
          "output_type": "error",
          "ename": "NameError",
          "evalue": "ignored",
          "traceback": [
            "\u001b[0;31m---------------------------------------------------------------------------\u001b[0m",
            "\u001b[0;31mNameError\u001b[0m                                 Traceback (most recent call last)",
            "\u001b[0;32m<ipython-input-3-81ccb13c92a0>\u001b[0m in \u001b[0;36m<module>\u001b[0;34m\u001b[0m\n\u001b[0;32m----> 1\u001b[0;31m \u001b[0marr_1\u001b[0m \u001b[0;34m=\u001b[0m \u001b[0mnp\u001b[0m\u001b[0;34m.\u001b[0m\u001b[0marray\u001b[0m\u001b[0;34m(\u001b[0m\u001b[0mdata_4\u001b[0m\u001b[0;34m)\u001b[0m\u001b[0;34m\u001b[0m\u001b[0;34m\u001b[0m\u001b[0m\n\u001b[0m",
            "\u001b[0;31mNameError\u001b[0m: name 'np' is not defined"
          ]
        }
      ],
      "source": [
        "arr_1 = np.array(data_4)"
      ]
    },
    {
      "cell_type": "code",
      "execution_count": null,
      "metadata": {
        "id": "Xkg4rv_NE6hF"
      },
      "outputs": [],
      "source": [
        "arr_1.shape"
      ]
    },
    {
      "cell_type": "code",
      "execution_count": null,
      "metadata": {
        "id": "AA9YjBpwE6hF"
      },
      "outputs": [],
      "source": [
        "data_5 = [[6,7,8,3,4,2]]"
      ]
    },
    {
      "cell_type": "code",
      "execution_count": null,
      "metadata": {
        "id": "RZB-bb3zE6hF"
      },
      "outputs": [],
      "source": [
        "arr_2 = np.array(data_5)"
      ]
    },
    {
      "cell_type": "code",
      "execution_count": null,
      "metadata": {
        "id": "LtzCzDG2E6hF"
      },
      "outputs": [],
      "source": [
        "arr_2.shape"
      ]
    },
    {
      "cell_type": "code",
      "execution_count": null,
      "metadata": {
        "id": "avT_uPNpE6hG"
      },
      "outputs": [],
      "source": [
        "data_7 = [[[6,7,8,3,4,2]]]\n",
        "arr_3 = np.array(data_7)"
      ]
    },
    {
      "cell_type": "code",
      "execution_count": null,
      "metadata": {
        "id": "37HEGHGFE6hG"
      },
      "outputs": [],
      "source": [
        "arr_3.shape"
      ]
    },
    {
      "cell_type": "code",
      "execution_count": null,
      "metadata": {
        "id": "Lg3590zzE6hG"
      },
      "outputs": [],
      "source": [
        "data_8 = [[[6]]]\n",
        "arr_4 = np.array(data_7)"
      ]
    },
    {
      "cell_type": "code",
      "execution_count": null,
      "metadata": {
        "id": "1nQD3brsE6hG"
      },
      "outputs": [],
      "source": [
        "arr_4.shape"
      ]
    },
    {
      "cell_type": "code",
      "execution_count": null,
      "metadata": {
        "id": "rKR_cYRKE6hG"
      },
      "outputs": [],
      "source": [
        "# list 를 이용해 array를 만들어 보세요\n",
        "# 아무 숫자나 넣고 만들면 되요\n",
        "# 단 4, 2 의 shape으로 만들어 보세요\n",
        "list_1 = [[1,2,3,4],[4,5,6,7]]\n",
        "list_2 = [[1,2], [3,4], [4,5], [6,7]]\n",
        "\n",
        "arr_5 = np.array(list_1)\n",
        "arr_6 = np.array(list_2)"
      ]
    },
    {
      "cell_type": "code",
      "execution_count": null,
      "metadata": {
        "id": "RZgHcbzeE6hG"
      },
      "outputs": [],
      "source": [
        "arr_5.shape"
      ]
    },
    {
      "cell_type": "code",
      "execution_count": null,
      "metadata": {
        "id": "lIt2eO0sE6hH"
      },
      "outputs": [],
      "source": [
        "arr_6.shape"
      ]
    },
    {
      "cell_type": "code",
      "execution_count": null,
      "metadata": {
        "id": "VetQXx0lE6hH"
      },
      "outputs": [],
      "source": [
        "arr_6.ndim"
      ]
    },
    {
      "cell_type": "code",
      "execution_count": null,
      "metadata": {
        "id": "lesNdr0AE6hI"
      },
      "outputs": [],
      "source": [
        "list_3 = [[1,2,3,4],[4,5,6]]"
      ]
    },
    {
      "cell_type": "code",
      "execution_count": null,
      "metadata": {
        "id": "NrRCxTT8E6hI"
      },
      "outputs": [],
      "source": [
        "np.array([\"hello\", \"world\"])*2"
      ]
    },
    {
      "cell_type": "code",
      "execution_count": null,
      "metadata": {
        "id": "4p6_3-wnE6hI"
      },
      "outputs": [],
      "source": [
        "np.mat([[1,2,3,4],[4,5,6,7]])"
      ]
    },
    {
      "cell_type": "markdown",
      "metadata": {
        "id": "_YVorot1E6hI"
      },
      "source": [
        "### ndarray 생성하기2\n",
        "- np.zeros : 메모리를 초기화 하고 0 으로 채워 넣는다.\n",
        "- np.empty : zeros와 비슷하지만, 메모리를 초기화 하지 않고 빈값을 넣기 때문에 0 이외의 값이 들어갈수 있다.\n",
        "- np.ones : 메모리를 초기화 하고 1 로 채워 넣는다.\n",
        "- np.full : 특정 값으로 채워 넣는다.  \n",
        "  \n",
        "- ?????_like : array의 shape 크기만큼 지정된 값으로 채워 array를 반환합니다.\n",
        "  \n",
        "- np. eye : NxN 단위행렬을 생성한다."
      ]
    },
    {
      "cell_type": "code",
      "execution_count": null,
      "metadata": {
        "id": "yQmTythrE6hJ",
        "outputId": "4fdc1f5a-5391-489b-d055-3300c7d8c3ae"
      },
      "outputs": [
        {
          "name": "stdout",
          "output_type": "stream",
          "text": [
            "[1]\n"
          ]
        }
      ],
      "source": [
        "list_1 = []\n",
        "list_1.append(1)\n",
        "print(list_1)"
      ]
    },
    {
      "cell_type": "code",
      "execution_count": null,
      "metadata": {
        "id": "Ij845gnZE6hJ",
        "outputId": "34182a0d-c4e0-43c8-db66-986759fd05dc"
      },
      "outputs": [
        {
          "data": {
            "text/plain": [
              "array([[0., 0., 0., 0., 0., 0., 0., 0., 0., 0.],\n",
              "       [0., 0., 0., 0., 0., 0., 0., 0., 0., 0.],\n",
              "       [0., 0., 0., 0., 0., 0., 0., 0., 0., 0.],\n",
              "       [0., 0., 0., 0., 0., 0., 0., 0., 0., 0.],\n",
              "       [0., 0., 0., 0., 0., 0., 0., 0., 0., 0.]])"
            ]
          },
          "execution_count": 83,
          "metadata": {},
          "output_type": "execute_result"
        }
      ],
      "source": [
        "np.zeros((5,10))"
      ]
    },
    {
      "cell_type": "code",
      "execution_count": null,
      "metadata": {
        "id": "SLBGeIAnE6hJ"
      },
      "outputs": [],
      "source": [
        "# zeros 를 이용해 3,4,5 인 array를 만들어 보세요\n",
        "# 모든 숫자가 2로 채워진 3,4인 array를 만들어 보세요"
      ]
    },
    {
      "cell_type": "code",
      "execution_count": null,
      "metadata": {
        "id": "wDlazt6zE6hK"
      },
      "outputs": [],
      "source": [
        "arr_7 = np.zeros([3,4,5])"
      ]
    },
    {
      "cell_type": "code",
      "execution_count": null,
      "metadata": {
        "id": "vsxSnC7JE6hK",
        "outputId": "85a92a21-2bc1-49cb-ca21-3e2955189608"
      },
      "outputs": [
        {
          "data": {
            "text/plain": [
              "(3, 4, 5)"
            ]
          },
          "execution_count": 88,
          "metadata": {},
          "output_type": "execute_result"
        }
      ],
      "source": [
        "arr_7.shape"
      ]
    },
    {
      "cell_type": "code",
      "execution_count": null,
      "metadata": {
        "id": "LXLIN-IhE6hK",
        "outputId": "aec507c4-f3a9-453b-ea2b-bae958febbe7"
      },
      "outputs": [
        {
          "data": {
            "text/plain": [
              "array([[2, 2, 2, 2],\n",
              "       [2, 2, 2, 2],\n",
              "       [2, 2, 2, 2]])"
            ]
          },
          "execution_count": 90,
          "metadata": {},
          "output_type": "execute_result"
        }
      ],
      "source": [
        "np.full([3,4], 2)"
      ]
    },
    {
      "cell_type": "code",
      "execution_count": null,
      "metadata": {
        "id": "GlXul9oDE6hK"
      },
      "outputs": [],
      "source": []
    },
    {
      "cell_type": "code",
      "execution_count": null,
      "metadata": {
        "id": "9EutEiZKE6hK",
        "outputId": "c83bf1be-4f66-460a-cec4-41bdf8583b5f"
      },
      "outputs": [
        {
          "data": {
            "text/plain": [
              "array([[6.92488790e-310, 0.00000000e+000],\n",
              "       [6.95331465e-310, 6.95331459e-310]])"
            ]
          },
          "execution_count": 85,
          "metadata": {},
          "output_type": "execute_result"
        }
      ],
      "source": [
        "np.empty((2,2))"
      ]
    },
    {
      "cell_type": "markdown",
      "metadata": {
        "id": "Wwy-Q9MQE6hK"
      },
      "source": [
        "### 데이터 타입\n",
        "- object.astype() : 함수를 통해 dtype을 변경할수 있다.\n",
        "- 자세한 내용은 공식 문서 참고"
      ]
    },
    {
      "cell_type": "code",
      "execution_count": null,
      "metadata": {
        "id": "6E9meQVUE6hL",
        "outputId": "f600dd7c-9983-40aa-caf6-0cc99b11607c"
      },
      "outputs": [
        {
          "data": {
            "text/plain": [
              "array([[1, 2],\n",
              "       [3, 4],\n",
              "       [4, 5],\n",
              "       [6, 7]])"
            ]
          },
          "execution_count": 94,
          "metadata": {},
          "output_type": "execute_result"
        }
      ],
      "source": [
        "arr_6"
      ]
    },
    {
      "cell_type": "code",
      "execution_count": null,
      "metadata": {
        "id": "KlKhyh-fE6hL",
        "outputId": "613bdc20-8686-4f51-a087-0ad77b0cf5d3"
      },
      "outputs": [
        {
          "data": {
            "text/plain": [
              "dtype('int64')"
            ]
          },
          "execution_count": 95,
          "metadata": {},
          "output_type": "execute_result"
        }
      ],
      "source": [
        "arr_6.dtype"
      ]
    },
    {
      "cell_type": "code",
      "execution_count": null,
      "metadata": {
        "id": "qJ15_s7qE6hL",
        "outputId": "a898bf55-2caf-411a-fee2-6cfe3c3a10c0"
      },
      "outputs": [
        {
          "data": {
            "text/plain": [
              "array([[1., 2.],\n",
              "       [3., 4.],\n",
              "       [4., 5.],\n",
              "       [6., 7.]])"
            ]
          },
          "execution_count": 96,
          "metadata": {},
          "output_type": "execute_result"
        }
      ],
      "source": [
        "arr_6.astype(dtype=\"float64\")"
      ]
    },
    {
      "cell_type": "markdown",
      "metadata": {
        "id": "Ly5cO5quE6hL"
      },
      "source": [
        "### numpy 배열의 산술 연산\n",
        "- numpy 배열은 반복문을 작성하지 않고 데이터를 일괄 처리할 수 있다.\n",
        "- 이를 **벡터화** 라고 한다.\n",
        "- 브로드케스팅과는 다른 개념"
      ]
    },
    {
      "cell_type": "code",
      "execution_count": null,
      "metadata": {
        "id": "8Q3csJZ5E6hM"
      },
      "outputs": [],
      "source": [
        "arr_1 = np.array([\n",
        "    [1,2,3],\n",
        "    [4,5,6]\n",
        "])\n",
        "# arr_1 = np.array([[1,2,3],[4,5,6]])"
      ]
    },
    {
      "cell_type": "code",
      "execution_count": null,
      "metadata": {
        "id": "0QAVf3WnE6hM",
        "outputId": "8b5a72eb-7ecb-458c-a80a-6572f6a9ca8b"
      },
      "outputs": [
        {
          "data": {
            "text/plain": [
              "array([[ 1,  4,  9],\n",
              "       [16, 25, 36]])"
            ]
          },
          "execution_count": 98,
          "metadata": {},
          "output_type": "execute_result"
        }
      ],
      "source": [
        "# 요소곱\n",
        "arr_1 * arr_1"
      ]
    },
    {
      "cell_type": "code",
      "execution_count": null,
      "metadata": {
        "id": "wrfrzQI_E6hM",
        "outputId": "3b23a9e0-51ba-4054-ce07-9547a7e45603"
      },
      "outputs": [
        {
          "name": "stdout",
          "output_type": "stream",
          "text": [
            "[[ 3  5  7]\n",
            " [11 11  9]]\n",
            "[[-1 -1 -1]\n",
            " [-3 -1  3]]\n",
            "[[ 2  6 12]\n",
            " [28 30 18]]\n",
            "[[0.5        0.66666667 0.75      ]\n",
            " [0.57142857 0.83333333 2.        ]]\n"
          ]
        }
      ],
      "source": [
        "# arr_1과 arr_2의 덧셈, 뺄셈, 곱셈, 나눗셈을 해보세요. 대소 관계도 비교해 보세요 (boolean)\n",
        "arr_2 = np.array([\n",
        "    [2,3,4],\n",
        "    [7,6,3]\n",
        "])\n",
        "\n",
        "print(arr_1 + arr_2)\n",
        "print(arr_1 - arr_2)\n",
        "print(arr_1 * arr_2)\n",
        "print(arr_1 / arr_2)"
      ]
    },
    {
      "cell_type": "code",
      "execution_count": null,
      "metadata": {
        "id": "4wFky9ZqE6hN",
        "outputId": "28d294f1-6ccf-4dba-d5a4-c9ccad7d0ca8"
      },
      "outputs": [
        {
          "name": "stdout",
          "output_type": "stream",
          "text": [
            "[[False False False]\n",
            " [False False  True]]\n"
          ]
        }
      ],
      "source": [
        "print(arr_1 >= arr_2)"
      ]
    },
    {
      "cell_type": "code",
      "execution_count": null,
      "metadata": {
        "id": "aHRXdgKDE6hN",
        "outputId": "df0a53e2-7863-4a6c-9710-59dd2fb0fa3a"
      },
      "outputs": [
        {
          "name": "stdout",
          "output_type": "stream",
          "text": [
            "[[ True  True  True]\n",
            " [ True  True  True]]\n"
          ]
        }
      ],
      "source": [
        "print(arr_1 != arr_2)"
      ]
    },
    {
      "cell_type": "code",
      "execution_count": null,
      "metadata": {
        "id": "bZftLNqBE6hN",
        "outputId": "b9bdd37b-337a-4437-a234-dbb672c655d4"
      },
      "outputs": [
        {
          "data": {
            "text/plain": [
              "array([[2, 3, 4],\n",
              "       [7, 6, 3]])"
            ]
          },
          "execution_count": 105,
          "metadata": {},
          "output_type": "execute_result"
        }
      ],
      "source": [
        "arr_2"
      ]
    },
    {
      "cell_type": "code",
      "execution_count": null,
      "metadata": {
        "id": "jc65mD7dE6hN",
        "outputId": "0a5d134d-54e9-40c9-f0f9-37af8e80447e"
      },
      "outputs": [
        {
          "data": {
            "text/plain": [
              "array([[2, 7],\n",
              "       [3, 6],\n",
              "       [4, 3]])"
            ]
          },
          "execution_count": 104,
          "metadata": {},
          "output_type": "execute_result"
        }
      ],
      "source": [
        "arr_2.transpose()"
      ]
    },
    {
      "cell_type": "code",
      "execution_count": null,
      "metadata": {
        "id": "23GoRHxKE6hN",
        "outputId": "481973be-3ab4-4092-eac4-0b427be16fe4"
      },
      "outputs": [
        {
          "data": {
            "text/plain": [
              "array([[20, 28],\n",
              "       [47, 76]])"
            ]
          },
          "execution_count": 106,
          "metadata": {},
          "output_type": "execute_result"
        }
      ],
      "source": [
        "# 행렬곱\n",
        "# arr_1 과 arr_2 의 행렬곱을 해보고\n",
        "# 손으로 한 결과와 np.dot 연산의 결과를 비교해 보세요\n",
        "np.dot(arr_1, arr_2.transpose())\n"
      ]
    },
    {
      "cell_type": "markdown",
      "metadata": {
        "id": "jdEZIFqVE6hO"
      },
      "source": [
        "### 색인과 슬라이싱 기초\n",
        "- 리스트와 동일하다.\n",
        "- 제일 중요"
      ]
    },
    {
      "cell_type": "code",
      "execution_count": null,
      "metadata": {
        "id": "sXjgb0T4E6hO"
      },
      "outputs": [],
      "source": [
        "arr_1 =  np.arange(10)"
      ]
    },
    {
      "cell_type": "code",
      "execution_count": null,
      "metadata": {
        "id": "lGDvC1XlE6hO",
        "outputId": "f9efdd02-f623-41f2-bad9-68dd98640d7c"
      },
      "outputs": [
        {
          "data": {
            "text/plain": [
              "array([0, 1, 2, 3, 4, 5, 6, 7, 8, 9])"
            ]
          },
          "execution_count": 129,
          "metadata": {},
          "output_type": "execute_result"
        }
      ],
      "source": [
        "arr_1"
      ]
    },
    {
      "cell_type": "code",
      "execution_count": null,
      "metadata": {
        "id": "y531lsz6E6hO",
        "outputId": "9a14acee-773b-416b-af4d-3e2ca8bb44e6"
      },
      "outputs": [
        {
          "data": {
            "text/plain": [
              "5"
            ]
          },
          "execution_count": 120,
          "metadata": {},
          "output_type": "execute_result"
        }
      ],
      "source": [
        "arr_1[5]"
      ]
    },
    {
      "cell_type": "code",
      "execution_count": null,
      "metadata": {
        "id": "THI4zwgVE6hO",
        "outputId": "679859be-a627-400e-bffe-2ccf41f9a554"
      },
      "outputs": [
        {
          "data": {
            "text/plain": [
              "array([5, 6, 7])"
            ]
          },
          "execution_count": 121,
          "metadata": {},
          "output_type": "execute_result"
        }
      ],
      "source": [
        "arr_1[5:8]"
      ]
    },
    {
      "cell_type": "code",
      "execution_count": null,
      "metadata": {
        "id": "E4KW3rTzE6hP",
        "outputId": "6fe88ca7-e8a9-4ea8-c785-e400c3122927"
      },
      "outputs": [
        {
          "data": {
            "text/plain": [
              "array([0, 1, 2, 3, 4, 5, 6, 7, 8])"
            ]
          },
          "execution_count": 122,
          "metadata": {},
          "output_type": "execute_result"
        }
      ],
      "source": [
        "arr_1[:-1]"
      ]
    },
    {
      "cell_type": "code",
      "execution_count": null,
      "metadata": {
        "id": "EdrJzGtWE6hP",
        "outputId": "1c64f6ef-8749-480a-8c45-6400f0924d77"
      },
      "outputs": [
        {
          "data": {
            "text/plain": [
              "array([9])"
            ]
          },
          "execution_count": 123,
          "metadata": {},
          "output_type": "execute_result"
        }
      ],
      "source": [
        "arr_1[-1:]"
      ]
    },
    {
      "cell_type": "code",
      "execution_count": null,
      "metadata": {
        "id": "HHuwnn0oE6hP"
      },
      "outputs": [],
      "source": [
        "arr_1[1] = 122222"
      ]
    },
    {
      "cell_type": "code",
      "execution_count": null,
      "metadata": {
        "id": "XKZWQ2ZxE6hP"
      },
      "outputs": [],
      "source": [
        "arr_1[:] = 10"
      ]
    },
    {
      "cell_type": "code",
      "execution_count": null,
      "metadata": {
        "id": "MClTaEW5E6hP"
      },
      "outputs": [],
      "source": [
        "arr_1 = 10"
      ]
    },
    {
      "cell_type": "code",
      "execution_count": null,
      "metadata": {
        "id": "uO-PCV0vE6hP",
        "outputId": "6145614e-4e99-44ad-bdda-218414d0f493"
      },
      "outputs": [
        {
          "data": {
            "text/plain": [
              "array([10, 10, 10, 10, 10, 10, 10, 10, 10, 10])"
            ]
          },
          "execution_count": 127,
          "metadata": {},
          "output_type": "execute_result"
        }
      ],
      "source": [
        "arr_1"
      ]
    },
    {
      "cell_type": "markdown",
      "metadata": {
        "id": "XllbCzqAE6hP"
      },
      "source": [
        "- array에 스칼라 값을 대입하면 영역 전체로 브로드캐스팅 된다.\n",
        "- list와의 차이점은 배열 조각은 원본 배열의 View이다.즉, 데이터는 복사되지 않고 View에 대한변경은 그대로 원본 배열에 반영 된다.\n",
        "- View 대신 ndarray의 복사본을 얻고 싶다면 object.copy() 함수를 사용해 명시적으로 배열을 복사해야 한다."
      ]
    },
    {
      "cell_type": "code",
      "execution_count": null,
      "metadata": {
        "id": "Xh4j5Y3eE6hQ"
      },
      "outputs": [],
      "source": [
        "arr_2 = arr_1"
      ]
    },
    {
      "cell_type": "code",
      "execution_count": null,
      "metadata": {
        "id": "t9KXI89gE6hQ",
        "outputId": "e199cb03-0b49-4f1b-e44f-652ba7daa9f0"
      },
      "outputs": [
        {
          "data": {
            "text/plain": [
              "array([0, 1, 2, 3, 4, 5, 6, 7, 8, 9])"
            ]
          },
          "execution_count": 136,
          "metadata": {},
          "output_type": "execute_result"
        }
      ],
      "source": [
        "arr_2"
      ]
    },
    {
      "cell_type": "code",
      "execution_count": null,
      "metadata": {
        "id": "PyUNU87dE6hQ"
      },
      "outputs": [],
      "source": [
        "arr_1[1] = 122222"
      ]
    },
    {
      "cell_type": "code",
      "execution_count": null,
      "metadata": {
        "id": "PAWn8O7xE6hQ",
        "outputId": "7c7c4fd4-4ef0-44f2-ebdd-2c98e4b6bbec"
      },
      "outputs": [
        {
          "data": {
            "text/plain": [
              "array([     0, 122222,      2,      3,      4,      5,      6,      7,\n",
              "            8,      9])"
            ]
          },
          "execution_count": 138,
          "metadata": {},
          "output_type": "execute_result"
        }
      ],
      "source": [
        "arr_1"
      ]
    },
    {
      "cell_type": "code",
      "execution_count": null,
      "metadata": {
        "id": "bzNGi6EZE6hQ",
        "outputId": "8cf41a61-02c5-4528-9e15-9221a24d263b"
      },
      "outputs": [
        {
          "data": {
            "text/plain": [
              "array([     0, 122222,      2,      3,      4,      5,      6,      7,\n",
              "            8,      9])"
            ]
          },
          "execution_count": 139,
          "metadata": {},
          "output_type": "execute_result"
        }
      ],
      "source": [
        "arr_2"
      ]
    },
    {
      "cell_type": "code",
      "execution_count": null,
      "metadata": {
        "id": "eshTX5_AE6hQ"
      },
      "outputs": [],
      "source": [
        "arr_3 = arr_1.copy()"
      ]
    },
    {
      "cell_type": "code",
      "execution_count": null,
      "metadata": {
        "id": "pjMuy1T5E6hQ",
        "outputId": "a86298ce-2acc-4bde-ce48-610e272b96bb"
      },
      "outputs": [
        {
          "data": {
            "text/plain": [
              "array([     0, 122222,      2,      3,      4,      5,      6,      7,\n",
              "            8,      9])"
            ]
          },
          "execution_count": 141,
          "metadata": {},
          "output_type": "execute_result"
        }
      ],
      "source": [
        "arr_3"
      ]
    },
    {
      "cell_type": "code",
      "execution_count": null,
      "metadata": {
        "id": "DfD_Nt4KE6hR"
      },
      "outputs": [],
      "source": [
        "arr_1[2] = 1"
      ]
    },
    {
      "cell_type": "code",
      "execution_count": null,
      "metadata": {
        "id": "8VSFNYJyE6hR",
        "outputId": "578b9a7b-27f9-4582-85c6-b8bb5fb1495f"
      },
      "outputs": [
        {
          "data": {
            "text/plain": [
              "array([     0, 122222,      1,      3,      4,      5,      6,      7,\n",
              "            8,      9])"
            ]
          },
          "execution_count": 143,
          "metadata": {},
          "output_type": "execute_result"
        }
      ],
      "source": [
        "arr_1"
      ]
    },
    {
      "cell_type": "code",
      "execution_count": null,
      "metadata": {
        "id": "oMtPLnMoE6hR",
        "outputId": "e7062cea-3151-4c03-f93d-3719ed78d7f7"
      },
      "outputs": [
        {
          "data": {
            "text/plain": [
              "array([     0, 122222,      2,      3,      4,      5,      6,      7,\n",
              "            8,      9])"
            ]
          },
          "execution_count": 144,
          "metadata": {},
          "output_type": "execute_result"
        }
      ],
      "source": [
        "arr_3"
      ]
    },
    {
      "cell_type": "code",
      "execution_count": null,
      "metadata": {
        "id": "Vi7UmPuUE6hR",
        "outputId": "340d3a97-6afe-4df2-b5b2-bcfcfbf45d43"
      },
      "outputs": [
        {
          "data": {
            "text/plain": [
              "array([     0, 122222,      1,      3,      4,      5,      6,      7,\n",
              "            8,      9])"
            ]
          },
          "execution_count": 145,
          "metadata": {},
          "output_type": "execute_result"
        }
      ],
      "source": [
        "arr_2"
      ]
    },
    {
      "cell_type": "code",
      "execution_count": null,
      "metadata": {
        "id": "f0KGIef7E6hR",
        "outputId": "20d63de8-76ce-4acf-a506-08892b479efa"
      },
      "outputs": [
        {
          "name": "stdout",
          "output_type": "stream",
          "text": [
            "140178774025840\n",
            "140178774025840\n",
            "140178772748752\n"
          ]
        }
      ],
      "source": [
        "print(id(arr_1))\n",
        "print(id(arr_2))\n",
        "print(id(arr_3))"
      ]
    },
    {
      "cell_type": "markdown",
      "metadata": {
        "id": "oQ6zfnWQE6hS"
      },
      "source": [
        "### 블리언 값으로 선택하기\n",
        "- 중복된 이름이 포함된 배열이 있다고 하자. 그리고 numpy.random 모듈이 있는 randn 함수를 사용해서 임의의 표준 정규분포 데이터를 생성하자."
      ]
    },
    {
      "cell_type": "code",
      "execution_count": null,
      "metadata": {
        "id": "jRWBVy3EE6hS"
      },
      "outputs": [],
      "source": [
        "names = np.array([\"오민엽\", \"이상엽\", \"김의석\", \"오민엽\", \"이상엽\"])"
      ]
    },
    {
      "cell_type": "code",
      "execution_count": null,
      "metadata": {
        "id": "P_zoMMj6E6hS",
        "outputId": "765087c1-8bf3-4dbd-dcd8-dc0fbc975575"
      },
      "outputs": [
        {
          "name": "stdout",
          "output_type": "stream",
          "text": [
            "[[ 0.40184267 -1.22132081  1.06841388  0.75251849]\n",
            " [ 1.09894147  1.97031227 -0.88543475  1.89301717]\n",
            " [-0.05287596  1.5335425  -0.87916185 -1.12266186]\n",
            " [ 1.29388419 -0.31233429 -0.08044291  0.28976011]\n",
            " [-1.04927325 -0.5232911  -0.10324431  1.32298411]]\n"
          ]
        }
      ],
      "source": [
        "# 정규분포에서 값을 뽑아 (5,4) 의 shape으로 만들어 준다.\n",
        "data = np.random.randn(5,4)\n",
        "print(data)"
      ]
    },
    {
      "cell_type": "code",
      "execution_count": null,
      "metadata": {
        "id": "3aI_sBy6E6hS",
        "outputId": "5dbfcd1d-7205-4b1f-b0be-6b3fd37cb3eb"
      },
      "outputs": [
        {
          "data": {
            "text/plain": [
              "array([ True, False, False,  True, False])"
            ]
          },
          "execution_count": 160,
          "metadata": {},
          "output_type": "execute_result"
        }
      ],
      "source": [
        "# - 각각의 이름은 data배열의 각 row에 대응한다고 가정하자.\n",
        "names == \"오민엽\""
      ]
    },
    {
      "cell_type": "code",
      "execution_count": null,
      "metadata": {
        "id": "aJWL_bwmE6hS",
        "outputId": "c47507ca-969c-4163-9617-0e50c58381ef"
      },
      "outputs": [
        {
          "data": {
            "text/plain": [
              "array([[ 0.40184267, -1.22132081,  1.06841388,  0.75251849],\n",
              "       [ 1.29388419, -0.31233429, -0.08044291,  0.28976011]])"
            ]
          },
          "execution_count": 161,
          "metadata": {},
          "output_type": "execute_result"
        }
      ],
      "source": [
        "data[names == \"오민엽\"]"
      ]
    },
    {
      "cell_type": "code",
      "execution_count": null,
      "metadata": {
        "id": "nC_xW2J7E6hS"
      },
      "outputs": [],
      "source": [
        "bool_1 = names == \"오민엽\""
      ]
    },
    {
      "cell_type": "code",
      "execution_count": null,
      "metadata": {
        "id": "Jc7NoL_AE6hS",
        "outputId": "7b5504b2-19bf-47ed-865a-1c0c86ab6ed7"
      },
      "outputs": [
        {
          "data": {
            "text/plain": [
              "array([[ 1.09894147,  1.97031227, -0.88543475,  1.89301717],\n",
              "       [-0.05287596,  1.5335425 , -0.87916185, -1.12266186],\n",
              "       [-1.04927325, -0.5232911 , -0.10324431,  1.32298411]])"
            ]
          },
          "execution_count": 164,
          "metadata": {},
          "output_type": "execute_result"
        }
      ],
      "source": [
        "data[~bool_1]"
      ]
    },
    {
      "cell_type": "markdown",
      "metadata": {
        "id": "ZOKLko4SE6hT"
      },
      "source": [
        "- &(and) 연산, |(or)연산 을 나타낸다.\n",
        "- and, or 예약어는 사용할수 없다."
      ]
    },
    {
      "cell_type": "code",
      "execution_count": null,
      "metadata": {
        "id": "sdpUOqbmE6hT",
        "outputId": "e871dbfb-f2d6-421d-ca1c-cd27d7f7e875"
      },
      "outputs": [
        {
          "data": {
            "text/plain": [
              "array([-1.22132081, -0.88543475, -0.05287596, -0.87916185, -1.12266186,\n",
              "       -0.31233429, -0.08044291, -1.04927325, -0.5232911 , -0.10324431])"
            ]
          },
          "execution_count": 167,
          "metadata": {},
          "output_type": "execute_result"
        }
      ],
      "source": [
        "# 문제 data에서 0보다 작은 값들만 필터링 해보세요\n",
        "data[data < 0]\n",
        "# 문제 data에서 0보다 작은 값들은 0으로 치환하세요"
      ]
    },
    {
      "cell_type": "code",
      "execution_count": null,
      "metadata": {
        "id": "e3XIMjoiE6hT",
        "outputId": "7e0404ed-66c2-4e8c-be15-04ab4020aef4"
      },
      "outputs": [
        {
          "data": {
            "text/plain": [
              "array([[ 0.40184267, -1.22132081,  1.06841388,  0.75251849],\n",
              "       [ 1.09894147,  1.97031227, -0.88543475,  1.89301717],\n",
              "       [-0.05287596,  1.5335425 , -0.87916185, -1.12266186],\n",
              "       [ 1.29388419, -0.31233429, -0.08044291,  0.28976011],\n",
              "       [-1.04927325, -0.5232911 , -0.10324431,  1.32298411]])"
            ]
          },
          "execution_count": 168,
          "metadata": {},
          "output_type": "execute_result"
        }
      ],
      "source": [
        "data"
      ]
    },
    {
      "cell_type": "code",
      "execution_count": null,
      "metadata": {
        "id": "XSuDvmdtE6hT"
      },
      "outputs": [],
      "source": [
        "data[data < 0] = 0"
      ]
    },
    {
      "cell_type": "code",
      "execution_count": null,
      "metadata": {
        "id": "zPtBg03CE6hT",
        "outputId": "254f1dda-d5c6-418a-e942-344f1c9d203d"
      },
      "outputs": [
        {
          "data": {
            "text/plain": [
              "array([[0.40184267, 0.        , 1.06841388, 0.75251849],\n",
              "       [1.09894147, 1.97031227, 0.        , 1.89301717],\n",
              "       [0.        , 1.5335425 , 0.        , 0.        ],\n",
              "       [1.29388419, 0.        , 0.        , 0.28976011],\n",
              "       [0.        , 0.        , 0.        , 1.32298411]])"
            ]
          },
          "execution_count": 170,
          "metadata": {},
          "output_type": "execute_result"
        }
      ],
      "source": [
        "data"
      ]
    },
    {
      "cell_type": "markdown",
      "metadata": {
        "id": "xyXQYZloE6hT"
      },
      "source": [
        "### 팬시 색인\n",
        "- 정수 배열 색인?\n",
        "- 정수 리스트를 이용해 여러개를 동시에 선택 가능"
      ]
    },
    {
      "cell_type": "code",
      "execution_count": null,
      "metadata": {
        "id": "Y8VqooN8E6hU"
      },
      "outputs": [],
      "source": [
        "arr = np.empty((8,4))"
      ]
    },
    {
      "cell_type": "code",
      "execution_count": null,
      "metadata": {
        "id": "8kA9BB--E6hU",
        "outputId": "9d256b60-b79a-4bdd-e859-6885ac31ad1c"
      },
      "outputs": [
        {
          "data": {
            "text/plain": [
              "array([[6.95170012e-310, 0.00000000e+000, 0.00000000e+000,\n",
              "        0.00000000e+000],\n",
              "       [0.00000000e+000, 5.02034658e+175, 1.57381196e-076,\n",
              "        5.49457681e+174],\n",
              "       [3.21992763e-057, 3.21691333e-057, 1.81370839e-052,\n",
              "        5.51224502e-144],\n",
              "       [3.59751658e+252, 3.42032083e+169, 3.51147619e+151,\n",
              "        1.04918960e-153],\n",
              "       [7.69165785e+218, 5.04621343e+180, 7.49874301e+247,\n",
              "        2.59903827e-144],\n",
              "       [4.16150731e-061, 2.57161428e+184, 9.14212225e+169,\n",
              "        2.33777508e-052],\n",
              "       [3.98450681e+252, 6.00736842e-067, 5.16823468e+097,\n",
              "        9.75035693e-072],\n",
              "       [3.41912922e+126, 1.28625693e+248, 9.46215455e-053,\n",
              "        1.03723812e-314]])"
            ]
          },
          "execution_count": 177,
          "metadata": {},
          "output_type": "execute_result"
        }
      ],
      "source": [
        "arr"
      ]
    },
    {
      "cell_type": "code",
      "execution_count": null,
      "metadata": {
        "id": "9EhxA0FfE6hU",
        "outputId": "61b341bf-9b4c-4a1d-d781-eda9655850ef"
      },
      "outputs": [
        {
          "data": {
            "text/plain": [
              "array([6.95170012e-310, 0.00000000e+000, 0.00000000e+000, 0.00000000e+000])"
            ]
          },
          "execution_count": 178,
          "metadata": {},
          "output_type": "execute_result"
        }
      ],
      "source": [
        "arr[0]"
      ]
    },
    {
      "cell_type": "code",
      "execution_count": null,
      "metadata": {
        "id": "yPI9ZrATE6hU"
      },
      "outputs": [],
      "source": [
        "for i in range(8):\n",
        "    arr[i] = i"
      ]
    },
    {
      "cell_type": "code",
      "execution_count": null,
      "metadata": {
        "id": "RotZK69OE6hU",
        "outputId": "a7d270c7-95c8-4033-b79c-d74abab4eba3"
      },
      "outputs": [
        {
          "data": {
            "text/plain": [
              "array([[0., 0., 0., 0.],\n",
              "       [1., 1., 1., 1.],\n",
              "       [2., 2., 2., 2.],\n",
              "       [3., 3., 3., 3.],\n",
              "       [4., 4., 4., 4.],\n",
              "       [5., 5., 5., 5.],\n",
              "       [6., 6., 6., 6.],\n",
              "       [7., 7., 7., 7.]])"
            ]
          },
          "execution_count": 180,
          "metadata": {},
          "output_type": "execute_result"
        }
      ],
      "source": [
        "arr"
      ]
    },
    {
      "cell_type": "code",
      "execution_count": null,
      "metadata": {
        "id": "vfmqB7ViE6hU",
        "outputId": "30b4dc32-abdd-4ec5-e2c0-7ceaa0c70662"
      },
      "outputs": [
        {
          "data": {
            "text/plain": [
              "array([[1., 1., 1., 1.],\n",
              "       [2., 2., 2., 2.],\n",
              "       [3., 3., 3., 3.],\n",
              "       [4., 4., 4., 4.]])"
            ]
          },
          "execution_count": 181,
          "metadata": {},
          "output_type": "execute_result"
        }
      ],
      "source": [
        "arr[[1,2,3,4]]"
      ]
    },
    {
      "cell_type": "code",
      "execution_count": null,
      "metadata": {
        "id": "Y6cQtfALE6hU",
        "outputId": "f1cac105-8094-4c08-e287-7afd2385b01c"
      },
      "outputs": [
        {
          "data": {
            "text/plain": [
              "array([[2., 2., 2., 2.],\n",
              "       [1., 1., 1., 1.],\n",
              "       [5., 5., 5., 5.],\n",
              "       [4., 4., 4., 4.]])"
            ]
          },
          "execution_count": 182,
          "metadata": {},
          "output_type": "execute_result"
        }
      ],
      "source": [
        "arr[[2,1,5,4]]"
      ]
    },
    {
      "cell_type": "code",
      "execution_count": null,
      "metadata": {
        "id": "xQYoQ2lYE6hV",
        "outputId": "aaf0d756-9110-41b9-a065-90f7fa80ca4f"
      },
      "outputs": [
        {
          "data": {
            "text/plain": [
              "array([[2., 2., 2., 2.],\n",
              "       [7., 7., 7., 7.],\n",
              "       [5., 5., 5., 5.],\n",
              "       [4., 4., 4., 4.]])"
            ]
          },
          "execution_count": 183,
          "metadata": {},
          "output_type": "execute_result"
        }
      ],
      "source": [
        "arr[[2,-1,5,4]]"
      ]
    },
    {
      "cell_type": "code",
      "execution_count": null,
      "metadata": {
        "id": "ZN2vaDGvE6hV"
      },
      "outputs": [],
      "source": [
        "arr_8 = np.array([\n",
        "    [1,2,3],\n",
        "    [4,5,6],\n",
        "    [7,8,9],\n",
        "    [10,11,12]\n",
        "])"
      ]
    },
    {
      "cell_type": "code",
      "execution_count": null,
      "metadata": {
        "id": "gajZqEFhE6hV",
        "outputId": "60c42157-5840-4175-9d51-4240ba28f7b8"
      },
      "outputs": [
        {
          "data": {
            "text/plain": [
              "(4, 3)"
            ]
          },
          "execution_count": 193,
          "metadata": {},
          "output_type": "execute_result"
        }
      ],
      "source": [
        "arr_8.shape"
      ]
    },
    {
      "cell_type": "code",
      "execution_count": null,
      "metadata": {
        "id": "Eig_G3fmE6hV",
        "outputId": "fd83f2ab-e874-43e9-e42c-9947b8eee459"
      },
      "outputs": [
        {
          "data": {
            "text/plain": [
              "array([[ 1,  2,  3],\n",
              "       [ 4,  5,  6],\n",
              "       [ 7,  8,  9],\n",
              "       [10, 11, 12]])"
            ]
          },
          "execution_count": 194,
          "metadata": {},
          "output_type": "execute_result"
        }
      ],
      "source": [
        "arr_8[:]"
      ]
    },
    {
      "cell_type": "code",
      "execution_count": null,
      "metadata": {
        "id": "iPNr3Bj0E6hW",
        "outputId": "830ccf73-3ec6-4f44-f042-b05b3a039f9c"
      },
      "outputs": [
        {
          "data": {
            "text/plain": [
              "array([[ 2,  3],\n",
              "       [ 5,  6],\n",
              "       [ 8,  9],\n",
              "       [11, 12]])"
            ]
          },
          "execution_count": 195,
          "metadata": {},
          "output_type": "execute_result"
        }
      ],
      "source": [
        "arr_8[:,1:]"
      ]
    },
    {
      "cell_type": "code",
      "execution_count": null,
      "metadata": {
        "id": "PhwXz2GzE6hW",
        "outputId": "1a683bd7-bf45-43df-d2a7-8b7d651be4fd"
      },
      "outputs": [
        {
          "data": {
            "text/plain": [
              "array([[ 2,  3],\n",
              "       [ 5,  6],\n",
              "       [ 8,  9],\n",
              "       [11, 12]])"
            ]
          },
          "execution_count": 196,
          "metadata": {},
          "output_type": "execute_result"
        }
      ],
      "source": [
        "arr_8[...,1:]"
      ]
    },
    {
      "cell_type": "code",
      "execution_count": null,
      "metadata": {
        "id": "GoZKsxn5E6hW"
      },
      "outputs": [],
      "source": [
        "arr = np.empty((10,3,5,8,4))"
      ]
    },
    {
      "cell_type": "code",
      "execution_count": null,
      "metadata": {
        "id": "Ay63hAY6E6hW",
        "outputId": "7ab98096-0ef7-42f5-8b90-67db2327a79e"
      },
      "outputs": [
        {
          "data": {
            "text/plain": [
              "array([[[[[ 6.92581711e-310,  6.92581711e-310,  6.95331468e-310,\n",
              "            6.95331468e-310],\n",
              "          [ 5.43472210e-323,  0.00000000e+000,  2.22507386e-308,\n",
              "            4.94065646e-324],\n",
              "          [ 3.81425647e-315,  2.22507386e-308,  9.88131292e-324,\n",
              "            9.79932320e-313],\n",
              "          ...,\n",
              "          [ 2.08600674e-308,  2.47032823e-323,  7.50043435e+247,\n",
              "            8.20230779e-307],\n",
              "          [ 4.17201349e-309,  2.96439388e-323,  1.89130745e+219,\n",
              "            2.65294172e+180],\n",
              "          [ 1.47129113e+224,  4.84184333e-322,  6.39708734e-308,\n",
              "            3.45845952e-323]],\n",
              "\n",
              "         [[ 6.28927877e+252,  5.72735383e-310,  1.39067116e-308,\n",
              "            3.95252517e-323],\n",
              "          [ 9.53545055e-307,  3.05947656e-308,  4.44659081e-323,\n",
              "            1.53609058e+171],\n",
              "          [ 5.18093678e-310,  1.80787251e-308,  4.94065646e-323,\n",
              "           -2.19448357e-132],\n",
              "          ...,\n",
              "          [-7.46028900e-078, -3.23221779e-248,  1.96698084e+233,\n",
              "            3.56939937e+150],\n",
              "          [-1.59999560e-034,  7.53235687e+252,  5.92878775e-322,\n",
              "            0.00000000e+000],\n",
              "          [ 0.00000000e+000,  0.00000000e+000,  6.92581693e-310,\n",
              "            1.99376588e-016]],\n",
              "\n",
              "         [[ 0.00000000e+000,  0.00000000e+000,  6.92581674e-310,\n",
              "            9.49646285e+164],\n",
              "          [ 0.00000000e+000,  0.00000000e+000,  0.00000000e+000,\n",
              "            0.00000000e+000],\n",
              "          [ 0.00000000e+000,  0.00000000e+000,  0.00000000e+000,\n",
              "            0.00000000e+000],\n",
              "          ...,\n",
              "          [ 6.92581694e-310, -7.84310243e-222,  0.00000000e+000,\n",
              "            0.00000000e+000],\n",
              "          [ 0.00000000e+000,  0.00000000e+000,  0.00000000e+000,\n",
              "            0.00000000e+000],\n",
              "          [ 0.00000000e+000,  0.00000000e+000,  6.92581693e-310,\n",
              "           -1.68409513e+159]],\n",
              "\n",
              "         [[ 0.00000000e+000,  0.00000000e+000,  6.92581693e-310,\n",
              "           -6.66085898e-254],\n",
              "          [ 0.00000000e+000,  0.00000000e+000,  6.92581694e-310,\n",
              "           -7.27030016e+106],\n",
              "          [ 0.00000000e+000,  0.00000000e+000,  0.00000000e+000,\n",
              "            0.00000000e+000],\n",
              "          ...,\n",
              "          [ 0.00000000e+000,  0.00000000e+000,  0.00000000e+000,\n",
              "            0.00000000e+000],\n",
              "          [ 0.00000000e+000,  0.00000000e+000,  0.00000000e+000,\n",
              "            0.00000000e+000],\n",
              "          [ 0.00000000e+000,  0.00000000e+000,  0.00000000e+000,\n",
              "            0.00000000e+000]],\n",
              "\n",
              "         [[ 0.00000000e+000,  0.00000000e+000,  0.00000000e+000,\n",
              "            0.00000000e+000],\n",
              "          [ 0.00000000e+000,  0.00000000e+000,  6.92581693e-310,\n",
              "           -2.58279194e+286],\n",
              "          [ 0.00000000e+000,  0.00000000e+000,  0.00000000e+000,\n",
              "            0.00000000e+000],\n",
              "          ...,\n",
              "          [ 0.00000000e+000,  0.00000000e+000,  0.00000000e+000,\n",
              "            0.00000000e+000],\n",
              "          [ 0.00000000e+000,  0.00000000e+000,  6.92581693e-310,\n",
              "            8.19081669e+173],\n",
              "          [ 6.92581694e-310, -3.01458181e-158,  6.92581693e-310,\n",
              "           -4.38996996e-052]]],\n",
              "\n",
              "\n",
              "        [[[ 0.00000000e+000,  0.00000000e+000,  0.00000000e+000,\n",
              "            0.00000000e+000],\n",
              "          [ 0.00000000e+000,  0.00000000e+000,  0.00000000e+000,\n",
              "            0.00000000e+000],\n",
              "          [ 0.00000000e+000,  0.00000000e+000,  0.00000000e+000,\n",
              "            0.00000000e+000],\n",
              "          ...,\n",
              "          [ 0.00000000e+000,  0.00000000e+000,  0.00000000e+000,\n",
              "            0.00000000e+000],\n",
              "          [ 0.00000000e+000,  0.00000000e+000,  0.00000000e+000,\n",
              "            0.00000000e+000],\n",
              "          [ 0.00000000e+000,  0.00000000e+000,  0.00000000e+000,\n",
              "            0.00000000e+000]],\n",
              "\n",
              "         [[ 0.00000000e+000,  0.00000000e+000,  0.00000000e+000,\n",
              "            0.00000000e+000],\n",
              "          [ 0.00000000e+000,  0.00000000e+000,  0.00000000e+000,\n",
              "            0.00000000e+000],\n",
              "          [ 0.00000000e+000,  0.00000000e+000,  0.00000000e+000,\n",
              "            0.00000000e+000],\n",
              "          ...,\n",
              "          [ 0.00000000e+000,  0.00000000e+000,  0.00000000e+000,\n",
              "            0.00000000e+000],\n",
              "          [ 0.00000000e+000,  0.00000000e+000,  0.00000000e+000,\n",
              "            0.00000000e+000],\n",
              "          [ 0.00000000e+000,  0.00000000e+000,  0.00000000e+000,\n",
              "            0.00000000e+000]],\n",
              "\n",
              "         [[ 0.00000000e+000,  0.00000000e+000,  0.00000000e+000,\n",
              "            0.00000000e+000],\n",
              "          [ 0.00000000e+000,  0.00000000e+000,  0.00000000e+000,\n",
              "            0.00000000e+000],\n",
              "          [ 0.00000000e+000,  0.00000000e+000,  0.00000000e+000,\n",
              "            0.00000000e+000],\n",
              "          ...,\n",
              "          [ 0.00000000e+000,  0.00000000e+000,  6.92581554e-310,\n",
              "            6.42996102e+106],\n",
              "          [ 0.00000000e+000,  0.00000000e+000,  0.00000000e+000,\n",
              "            0.00000000e+000],\n",
              "          [ 0.00000000e+000,  0.00000000e+000,  0.00000000e+000,\n",
              "            0.00000000e+000]],\n",
              "\n",
              "         [[ 0.00000000e+000,  0.00000000e+000,  0.00000000e+000,\n",
              "            0.00000000e+000],\n",
              "          [ 0.00000000e+000,  0.00000000e+000,  0.00000000e+000,\n",
              "            0.00000000e+000],\n",
              "          [ 6.92581693e-310, -5.98406125e-113,  0.00000000e+000,\n",
              "            0.00000000e+000],\n",
              "          ...,\n",
              "          [ 6.92581554e-310,  6.91916006e+283,  0.00000000e+000,\n",
              "            0.00000000e+000],\n",
              "          [ 0.00000000e+000,  0.00000000e+000,  0.00000000e+000,\n",
              "            0.00000000e+000],\n",
              "          [ 0.00000000e+000,  0.00000000e+000,  0.00000000e+000,\n",
              "            0.00000000e+000]],\n",
              "\n",
              "         [[ 6.92581693e-310, -1.05778474e+202,  6.92581693e-310,\n",
              "           -8.55402451e+197],\n",
              "          [ 0.00000000e+000,  0.00000000e+000,  0.00000000e+000,\n",
              "            0.00000000e+000],\n",
              "          [ 6.92581693e-310, -4.05528276e-274,  0.00000000e+000,\n",
              "            0.00000000e+000],\n",
              "          ...,\n",
              "          [ 0.00000000e+000,  0.00000000e+000,  0.00000000e+000,\n",
              "            0.00000000e+000],\n",
              "          [ 6.92581693e-310, -7.20874643e+202,  6.92581693e-310,\n",
              "           -1.08580260e+161],\n",
              "          [ 0.00000000e+000,  0.00000000e+000,  6.92581693e-310,\n",
              "            1.30941188e+222]]],\n",
              "\n",
              "\n",
              "        [[[ 0.00000000e+000,  0.00000000e+000,  0.00000000e+000,\n",
              "            0.00000000e+000],\n",
              "          [ 0.00000000e+000,  0.00000000e+000,  0.00000000e+000,\n",
              "            0.00000000e+000],\n",
              "          [ 0.00000000e+000,  0.00000000e+000,  0.00000000e+000,\n",
              "            0.00000000e+000],\n",
              "          ...,\n",
              "          [ 6.92581693e-310,  2.14542155e+290,  6.92581693e-310,\n",
              "            2.22343179e-243],\n",
              "          [ 6.92581693e-310, -6.27492688e+212,  6.92581554e-310,\n",
              "            1.85901115e+164],\n",
              "          [ 6.92581696e-310, -4.83600955e-171,  0.00000000e+000,\n",
              "            0.00000000e+000]],\n",
              "\n",
              "         [[ 0.00000000e+000,  0.00000000e+000,  0.00000000e+000,\n",
              "            0.00000000e+000],\n",
              "          [ 0.00000000e+000,  0.00000000e+000,  6.92581693e-310,\n",
              "           -4.92745150e-054],\n",
              "          [ 0.00000000e+000,  0.00000000e+000,  0.00000000e+000,\n",
              "            0.00000000e+000],\n",
              "          ...,\n",
              "          [ 0.00000000e+000,  0.00000000e+000,  0.00000000e+000,\n",
              "            0.00000000e+000],\n",
              "          [ 0.00000000e+000,  0.00000000e+000,  0.00000000e+000,\n",
              "            0.00000000e+000],\n",
              "          [ 0.00000000e+000,  0.00000000e+000,  0.00000000e+000,\n",
              "            0.00000000e+000]],\n",
              "\n",
              "         [[ 0.00000000e+000,  0.00000000e+000,  0.00000000e+000,\n",
              "            0.00000000e+000],\n",
              "          [ 0.00000000e+000,  0.00000000e+000,  0.00000000e+000,\n",
              "            0.00000000e+000],\n",
              "          [ 0.00000000e+000,  0.00000000e+000,  0.00000000e+000,\n",
              "            0.00000000e+000],\n",
              "          ...,\n",
              "          [ 6.92581638e-310,  1.11512410e+182,  0.00000000e+000,\n",
              "            0.00000000e+000],\n",
              "          [ 0.00000000e+000,  0.00000000e+000,  0.00000000e+000,\n",
              "            0.00000000e+000],\n",
              "          [ 0.00000000e+000,  0.00000000e+000,  0.00000000e+000,\n",
              "            0.00000000e+000]],\n",
              "\n",
              "         [[ 0.00000000e+000,  0.00000000e+000,  0.00000000e+000,\n",
              "            0.00000000e+000],\n",
              "          [ 6.92581693e-310, -7.80885597e-208,  0.00000000e+000,\n",
              "            0.00000000e+000],\n",
              "          [ 6.92581693e-310, -3.67185087e-200,  0.00000000e+000,\n",
              "            0.00000000e+000],\n",
              "          ...,\n",
              "          [ 0.00000000e+000,  0.00000000e+000,  0.00000000e+000,\n",
              "            0.00000000e+000],\n",
              "          [ 0.00000000e+000,  0.00000000e+000,  6.92581560e-310,\n",
              "           -1.52593939e+200],\n",
              "          [ 0.00000000e+000,  0.00000000e+000,  0.00000000e+000,\n",
              "            0.00000000e+000]],\n",
              "\n",
              "         [[ 0.00000000e+000,  0.00000000e+000,  0.00000000e+000,\n",
              "            0.00000000e+000],\n",
              "          [ 0.00000000e+000,  0.00000000e+000,  0.00000000e+000,\n",
              "            0.00000000e+000],\n",
              "          [ 0.00000000e+000,  0.00000000e+000,  6.92581693e-310,\n",
              "            3.62513218e+253],\n",
              "          ...,\n",
              "          [ 6.92581695e-310, -5.77604571e+001,  0.00000000e+000,\n",
              "            0.00000000e+000],\n",
              "          [ 0.00000000e+000,  0.00000000e+000,  0.00000000e+000,\n",
              "            0.00000000e+000],\n",
              "          [ 6.92580649e-310, -1.32256459e+027,  6.92581693e-310,\n",
              "            4.22232322e-263]]]],\n",
              "\n",
              "\n",
              "\n",
              "       [[[[ 0.00000000e+000,  0.00000000e+000,  6.92581693e-310,\n",
              "            2.48203452e-251],\n",
              "          [ 0.00000000e+000,  0.00000000e+000,  6.92581693e-310,\n",
              "            3.66939153e-052],\n",
              "          [ 0.00000000e+000,  0.00000000e+000,  0.00000000e+000,\n",
              "            0.00000000e+000],\n",
              "          ...,\n",
              "          [ 0.00000000e+000,  0.00000000e+000,  0.00000000e+000,\n",
              "            0.00000000e+000],\n",
              "          [ 0.00000000e+000,  0.00000000e+000,  0.00000000e+000,\n",
              "            0.00000000e+000],\n",
              "          [ 0.00000000e+000,  0.00000000e+000,  0.00000000e+000,\n",
              "            0.00000000e+000]],\n",
              "\n",
              "         [[ 0.00000000e+000,  0.00000000e+000,  6.92581554e-310,\n",
              "            1.24799705e-098],\n",
              "          [ 0.00000000e+000,  0.00000000e+000,  0.00000000e+000,\n",
              "            0.00000000e+000],\n",
              "          [ 0.00000000e+000,  0.00000000e+000,  6.92581693e-310,\n",
              "            2.26257033e+258],\n",
              "          ...,\n",
              "          [ 0.00000000e+000,  0.00000000e+000,  0.00000000e+000,\n",
              "            0.00000000e+000],\n",
              "          [ 0.00000000e+000,  0.00000000e+000,  0.00000000e+000,\n",
              "            0.00000000e+000],\n",
              "          [ 0.00000000e+000,  0.00000000e+000,  0.00000000e+000,\n",
              "            0.00000000e+000]],\n",
              "\n",
              "         [[ 0.00000000e+000,  0.00000000e+000,  0.00000000e+000,\n",
              "            0.00000000e+000],\n",
              "          [ 0.00000000e+000,  0.00000000e+000,  0.00000000e+000,\n",
              "            0.00000000e+000],\n",
              "          [ 0.00000000e+000,  0.00000000e+000,  0.00000000e+000,\n",
              "            0.00000000e+000],\n",
              "          ...,\n",
              "          [ 0.00000000e+000,  0.00000000e+000,  0.00000000e+000,\n",
              "            0.00000000e+000],\n",
              "          [ 0.00000000e+000,  0.00000000e+000,  0.00000000e+000,\n",
              "            0.00000000e+000],\n",
              "          [ 0.00000000e+000,  0.00000000e+000,  0.00000000e+000,\n",
              "            0.00000000e+000]],\n",
              "\n",
              "         [[ 0.00000000e+000,  0.00000000e+000,  0.00000000e+000,\n",
              "            0.00000000e+000],\n",
              "          [ 6.92581693e-310,  4.13280002e-260,  0.00000000e+000,\n",
              "            0.00000000e+000],\n",
              "          [ 0.00000000e+000,  0.00000000e+000,  0.00000000e+000,\n",
              "            0.00000000e+000],\n",
              "          ...,\n",
              "          [ 0.00000000e+000,  0.00000000e+000,  0.00000000e+000,\n",
              "            0.00000000e+000],\n",
              "          [ 0.00000000e+000,  0.00000000e+000,  0.00000000e+000,\n",
              "            0.00000000e+000],\n",
              "          [ 0.00000000e+000,  0.00000000e+000,  6.92581686e-310,\n",
              "            2.58262142e+232]],\n",
              "\n",
              "         [[ 0.00000000e+000,  0.00000000e+000,  0.00000000e+000,\n",
              "            0.00000000e+000],\n",
              "          [ 0.00000000e+000,  0.00000000e+000,  0.00000000e+000,\n",
              "            0.00000000e+000],\n",
              "          [ 0.00000000e+000,  0.00000000e+000,  0.00000000e+000,\n",
              "            0.00000000e+000],\n",
              "          ...,\n",
              "          [ 0.00000000e+000,  0.00000000e+000,  0.00000000e+000,\n",
              "            0.00000000e+000],\n",
              "          [ 0.00000000e+000,  0.00000000e+000,  0.00000000e+000,\n",
              "            0.00000000e+000],\n",
              "          [ 0.00000000e+000,  0.00000000e+000,  0.00000000e+000,\n",
              "            0.00000000e+000]]],\n",
              "\n",
              "\n",
              "        [[[ 0.00000000e+000,  0.00000000e+000,  0.00000000e+000,\n",
              "            0.00000000e+000],\n",
              "          [ 0.00000000e+000,  0.00000000e+000,  0.00000000e+000,\n",
              "            0.00000000e+000],\n",
              "          [ 0.00000000e+000,  0.00000000e+000,  0.00000000e+000,\n",
              "            0.00000000e+000],\n",
              "          ...,\n",
              "          [ 0.00000000e+000,  0.00000000e+000,  0.00000000e+000,\n",
              "            0.00000000e+000],\n",
              "          [ 6.92581693e-310,  1.03109044e+159,  0.00000000e+000,\n",
              "            0.00000000e+000],\n",
              "          [ 6.92581697e-310, -6.41147087e-282,  0.00000000e+000,\n",
              "            0.00000000e+000]],\n",
              "\n",
              "         [[ 6.92581562e-310, -5.49023818e-160,  6.92581639e-310,\n",
              "           -1.33018037e-296],\n",
              "          [ 6.92581690e-310, -6.91133300e-276,  0.00000000e+000,\n",
              "            0.00000000e+000],\n",
              "          [ 0.00000000e+000,  0.00000000e+000,  6.92581554e-310,\n",
              "            3.16312706e+221],\n",
              "          ...,\n",
              "          [ 0.00000000e+000,  0.00000000e+000,  0.00000000e+000,\n",
              "            0.00000000e+000],\n",
              "          [ 0.00000000e+000,  0.00000000e+000,  0.00000000e+000,\n",
              "            0.00000000e+000],\n",
              "          [ 0.00000000e+000,  0.00000000e+000,  0.00000000e+000,\n",
              "            0.00000000e+000]],\n",
              "\n",
              "         [[ 6.92580649e-310, -2.84865018e+203,  0.00000000e+000,\n",
              "            0.00000000e+000],\n",
              "          [ 0.00000000e+000,  0.00000000e+000,  6.92581693e-310,\n",
              "            8.96533827e+239],\n",
              "          [ 6.92581554e-310,  2.02220705e+263,  6.92581693e-310,\n",
              "           -3.27165891e-186],\n",
              "          ...,\n",
              "          [ 0.00000000e+000,  0.00000000e+000,  0.00000000e+000,\n",
              "            0.00000000e+000],\n",
              "          [ 0.00000000e+000,  0.00000000e+000,  0.00000000e+000,\n",
              "            0.00000000e+000],\n",
              "          [ 6.92581554e-310,  1.15387540e-043,  0.00000000e+000,\n",
              "            0.00000000e+000]],\n",
              "\n",
              "         [[ 0.00000000e+000,  0.00000000e+000,  0.00000000e+000,\n",
              "            0.00000000e+000],\n",
              "          [ 0.00000000e+000,  0.00000000e+000,  0.00000000e+000,\n",
              "            0.00000000e+000],\n",
              "          [ 0.00000000e+000,  0.00000000e+000,  0.00000000e+000,\n",
              "            0.00000000e+000],\n",
              "          ...,\n",
              "          [ 0.00000000e+000,  0.00000000e+000,  0.00000000e+000,\n",
              "            0.00000000e+000],\n",
              "          [ 6.92581693e-310, -1.76537398e-105,  0.00000000e+000,\n",
              "            0.00000000e+000],\n",
              "          [ 0.00000000e+000,  0.00000000e+000,  0.00000000e+000,\n",
              "            0.00000000e+000]],\n",
              "\n",
              "         [[ 0.00000000e+000,  0.00000000e+000,  0.00000000e+000,\n",
              "            0.00000000e+000],\n",
              "          [ 0.00000000e+000,  0.00000000e+000,  0.00000000e+000,\n",
              "            0.00000000e+000],\n",
              "          [ 6.92581693e-310, -2.44772340e-036,  0.00000000e+000,\n",
              "            0.00000000e+000],\n",
              "          ...,\n",
              "          [ 6.92581554e-310,  8.87425054e-120,  0.00000000e+000,\n",
              "            0.00000000e+000],\n",
              "          [ 0.00000000e+000,  0.00000000e+000,  0.00000000e+000,\n",
              "            0.00000000e+000],\n",
              "          [ 0.00000000e+000,  0.00000000e+000,  0.00000000e+000,\n",
              "            0.00000000e+000]]],\n",
              "\n",
              "\n",
              "        [[[ 0.00000000e+000,  0.00000000e+000,  0.00000000e+000,\n",
              "            0.00000000e+000],\n",
              "          [ 0.00000000e+000,  0.00000000e+000,  0.00000000e+000,\n",
              "            0.00000000e+000],\n",
              "          [ 0.00000000e+000,  0.00000000e+000,  0.00000000e+000,\n",
              "            0.00000000e+000],\n",
              "          ...,\n",
              "          [ 0.00000000e+000,  0.00000000e+000,  6.92581562e-310,\n",
              "           -1.77032617e+236],\n",
              "          [ 0.00000000e+000,  0.00000000e+000,  6.92581554e-310,\n",
              "           -1.39417608e+106],\n",
              "          [ 0.00000000e+000,  0.00000000e+000,  0.00000000e+000,\n",
              "            0.00000000e+000]],\n",
              "\n",
              "         [[ 0.00000000e+000,  0.00000000e+000,  0.00000000e+000,\n",
              "            0.00000000e+000],\n",
              "          [ 0.00000000e+000,  0.00000000e+000,  0.00000000e+000,\n",
              "            0.00000000e+000],\n",
              "          [ 0.00000000e+000,  0.00000000e+000,  6.92581554e-310,\n",
              "            2.33504582e+256],\n",
              "          ...,\n",
              "          [ 0.00000000e+000,  0.00000000e+000,  0.00000000e+000,\n",
              "            0.00000000e+000],\n",
              "          [ 0.00000000e+000,  0.00000000e+000,  0.00000000e+000,\n",
              "            0.00000000e+000],\n",
              "          [ 0.00000000e+000,  0.00000000e+000,  0.00000000e+000,\n",
              "            0.00000000e+000]],\n",
              "\n",
              "         [[ 0.00000000e+000,  0.00000000e+000,  0.00000000e+000,\n",
              "            0.00000000e+000],\n",
              "          [ 0.00000000e+000,  0.00000000e+000,  6.92580649e-310,\n",
              "            1.21656465e-259],\n",
              "          [ 6.92581693e-310,  2.64431694e-287,  6.92581597e-310,\n",
              "            2.00200343e+074],\n",
              "          ...,\n",
              "          [ 0.00000000e+000,  0.00000000e+000,  0.00000000e+000,\n",
              "            0.00000000e+000],\n",
              "          [ 0.00000000e+000,  0.00000000e+000,  0.00000000e+000,\n",
              "            0.00000000e+000],\n",
              "          [ 0.00000000e+000,  0.00000000e+000,  0.00000000e+000,\n",
              "            0.00000000e+000]],\n",
              "\n",
              "         [[ 0.00000000e+000,  0.00000000e+000,  0.00000000e+000,\n",
              "            0.00000000e+000],\n",
              "          [ 0.00000000e+000,  0.00000000e+000,  0.00000000e+000,\n",
              "            0.00000000e+000],\n",
              "          [ 0.00000000e+000,  0.00000000e+000,  0.00000000e+000,\n",
              "            0.00000000e+000],\n",
              "          ...,\n",
              "          [ 0.00000000e+000,  0.00000000e+000,  6.92581693e-310,\n",
              "           -3.23714489e+228],\n",
              "          [ 6.92580658e-310,  4.27389944e+226,  0.00000000e+000,\n",
              "            0.00000000e+000],\n",
              "          [ 0.00000000e+000,  0.00000000e+000,  0.00000000e+000,\n",
              "            0.00000000e+000]],\n",
              "\n",
              "         [[ 0.00000000e+000,  0.00000000e+000,  0.00000000e+000,\n",
              "            0.00000000e+000],\n",
              "          [ 0.00000000e+000,  0.00000000e+000,  6.92580649e-310,\n",
              "            1.11209092e+277],\n",
              "          [ 6.92581693e-310,  1.83335583e-047,  0.00000000e+000,\n",
              "            0.00000000e+000],\n",
              "          ...,\n",
              "          [ 0.00000000e+000,  0.00000000e+000,  0.00000000e+000,\n",
              "            0.00000000e+000],\n",
              "          [ 0.00000000e+000,  0.00000000e+000,  0.00000000e+000,\n",
              "            0.00000000e+000],\n",
              "          [ 0.00000000e+000,  0.00000000e+000,  0.00000000e+000,\n",
              "            0.00000000e+000]]]],\n",
              "\n",
              "\n",
              "\n",
              "       [[[[ 0.00000000e+000,  0.00000000e+000,  0.00000000e+000,\n",
              "            0.00000000e+000],\n",
              "          [ 0.00000000e+000,  0.00000000e+000,  0.00000000e+000,\n",
              "            0.00000000e+000],\n",
              "          [ 0.00000000e+000,  0.00000000e+000,  0.00000000e+000,\n",
              "            0.00000000e+000],\n",
              "          ...,\n",
              "          [ 0.00000000e+000,  0.00000000e+000,  0.00000000e+000,\n",
              "            0.00000000e+000],\n",
              "          [ 0.00000000e+000,  0.00000000e+000,  6.92581669e-310,\n",
              "            4.47915618e+247],\n",
              "          [ 0.00000000e+000,  0.00000000e+000,  0.00000000e+000,\n",
              "            0.00000000e+000]],\n",
              "\n",
              "         [[ 0.00000000e+000,  0.00000000e+000,  0.00000000e+000,\n",
              "            0.00000000e+000],\n",
              "          [ 0.00000000e+000,  0.00000000e+000,  0.00000000e+000,\n",
              "            0.00000000e+000],\n",
              "          [ 0.00000000e+000,  0.00000000e+000,  0.00000000e+000,\n",
              "            0.00000000e+000],\n",
              "          ...,\n",
              "          [ 0.00000000e+000,  0.00000000e+000,  0.00000000e+000,\n",
              "            0.00000000e+000],\n",
              "          [ 0.00000000e+000,  0.00000000e+000,  6.92581694e-310,\n",
              "           -9.80182650e-073],\n",
              "          [ 0.00000000e+000,  0.00000000e+000,  0.00000000e+000,\n",
              "            0.00000000e+000]],\n",
              "\n",
              "         [[ 0.00000000e+000,  0.00000000e+000,  0.00000000e+000,\n",
              "            0.00000000e+000],\n",
              "          [ 0.00000000e+000,  0.00000000e+000,  0.00000000e+000,\n",
              "            0.00000000e+000],\n",
              "          [ 0.00000000e+000,  0.00000000e+000,  0.00000000e+000,\n",
              "            0.00000000e+000],\n",
              "          ...,\n",
              "          [ 0.00000000e+000,  0.00000000e+000,  0.00000000e+000,\n",
              "            0.00000000e+000],\n",
              "          [ 6.92581694e-310,  3.62050940e+102,  0.00000000e+000,\n",
              "            0.00000000e+000],\n",
              "          [ 0.00000000e+000,  0.00000000e+000,  0.00000000e+000,\n",
              "            0.00000000e+000]],\n",
              "\n",
              "         [[ 0.00000000e+000,  0.00000000e+000,  0.00000000e+000,\n",
              "            0.00000000e+000],\n",
              "          [ 0.00000000e+000,  0.00000000e+000,  0.00000000e+000,\n",
              "            0.00000000e+000],\n",
              "          [ 0.00000000e+000,  0.00000000e+000,  0.00000000e+000,\n",
              "            0.00000000e+000],\n",
              "          ...,\n",
              "          [ 0.00000000e+000,  0.00000000e+000,  0.00000000e+000,\n",
              "            0.00000000e+000],\n",
              "          [ 0.00000000e+000,  0.00000000e+000,  0.00000000e+000,\n",
              "            0.00000000e+000],\n",
              "          [ 0.00000000e+000,  0.00000000e+000,  0.00000000e+000,\n",
              "            0.00000000e+000]],\n",
              "\n",
              "         [[ 0.00000000e+000,  0.00000000e+000,  0.00000000e+000,\n",
              "            0.00000000e+000],\n",
              "          [ 0.00000000e+000,  0.00000000e+000,  6.92581693e-310,\n",
              "            5.71863989e+056],\n",
              "          [ 0.00000000e+000,  0.00000000e+000,  0.00000000e+000,\n",
              "            0.00000000e+000],\n",
              "          ...,\n",
              "          [ 0.00000000e+000,  0.00000000e+000,  0.00000000e+000,\n",
              "            0.00000000e+000],\n",
              "          [ 0.00000000e+000,  0.00000000e+000,  6.92581693e-310,\n",
              "            5.15923357e-066],\n",
              "          [ 0.00000000e+000,  0.00000000e+000,  0.00000000e+000,\n",
              "            0.00000000e+000]]],\n",
              "\n",
              "\n",
              "        [[[ 0.00000000e+000,  0.00000000e+000,  0.00000000e+000,\n",
              "            0.00000000e+000],\n",
              "          [ 0.00000000e+000,  0.00000000e+000,  0.00000000e+000,\n",
              "            0.00000000e+000],\n",
              "          [ 0.00000000e+000,  0.00000000e+000,  0.00000000e+000,\n",
              "            0.00000000e+000],\n",
              "          ...,\n",
              "          [ 0.00000000e+000,  0.00000000e+000,  0.00000000e+000,\n",
              "            0.00000000e+000],\n",
              "          [ 0.00000000e+000,  0.00000000e+000,  0.00000000e+000,\n",
              "            0.00000000e+000],\n",
              "          [ 0.00000000e+000,  0.00000000e+000,  0.00000000e+000,\n",
              "            0.00000000e+000]],\n",
              "\n",
              "         [[ 0.00000000e+000,  0.00000000e+000,  0.00000000e+000,\n",
              "            0.00000000e+000],\n",
              "          [ 0.00000000e+000,  0.00000000e+000,  0.00000000e+000,\n",
              "            0.00000000e+000],\n",
              "          [ 0.00000000e+000,  0.00000000e+000,  6.92581554e-310,\n",
              "           -7.92338629e+139],\n",
              "          ...,\n",
              "          [ 6.92581693e-310, -3.70102025e-181,  6.92581693e-310,\n",
              "            2.47622667e-077],\n",
              "          [ 0.00000000e+000,  0.00000000e+000,  6.92581554e-310,\n",
              "           -1.28612862e-248],\n",
              "          [ 6.92581697e-310, -1.08800694e+274,  0.00000000e+000,\n",
              "            0.00000000e+000]],\n",
              "\n",
              "         [[ 0.00000000e+000,  0.00000000e+000,  0.00000000e+000,\n",
              "            0.00000000e+000],\n",
              "          [ 0.00000000e+000,  0.00000000e+000,  6.92581696e-310,\n",
              "            5.73568093e+044],\n",
              "          [ 0.00000000e+000,  0.00000000e+000,  0.00000000e+000,\n",
              "            0.00000000e+000],\n",
              "          ...,\n",
              "          [ 0.00000000e+000,  0.00000000e+000,  0.00000000e+000,\n",
              "            0.00000000e+000],\n",
              "          [ 0.00000000e+000,  0.00000000e+000,  0.00000000e+000,\n",
              "            0.00000000e+000],\n",
              "          [ 0.00000000e+000,  0.00000000e+000,  0.00000000e+000,\n",
              "            0.00000000e+000]],\n",
              "\n",
              "         [[ 0.00000000e+000,  0.00000000e+000,  0.00000000e+000,\n",
              "            0.00000000e+000],\n",
              "          [ 0.00000000e+000,  0.00000000e+000,  0.00000000e+000,\n",
              "            0.00000000e+000],\n",
              "          [ 0.00000000e+000,  0.00000000e+000,  0.00000000e+000,\n",
              "            0.00000000e+000],\n",
              "          ...,\n",
              "          [ 0.00000000e+000,  0.00000000e+000,  0.00000000e+000,\n",
              "            0.00000000e+000],\n",
              "          [ 0.00000000e+000,  0.00000000e+000,  0.00000000e+000,\n",
              "            0.00000000e+000],\n",
              "          [ 0.00000000e+000,  0.00000000e+000,  0.00000000e+000,\n",
              "            0.00000000e+000]],\n",
              "\n",
              "         [[ 0.00000000e+000,  0.00000000e+000,  0.00000000e+000,\n",
              "            0.00000000e+000],\n",
              "          [ 0.00000000e+000,  0.00000000e+000,  0.00000000e+000,\n",
              "            0.00000000e+000],\n",
              "          [ 0.00000000e+000,  0.00000000e+000,  0.00000000e+000,\n",
              "            0.00000000e+000],\n",
              "          ...,\n",
              "          [ 6.92581693e-310,  6.82731221e+010,  6.92580658e-310,\n",
              "           -6.27532770e+076],\n",
              "          [ 0.00000000e+000,  0.00000000e+000,  6.92581694e-310,\n",
              "           -1.62262348e+255],\n",
              "          [ 0.00000000e+000,  0.00000000e+000,  0.00000000e+000,\n",
              "            0.00000000e+000]]],\n",
              "\n",
              "\n",
              "        [[[ 0.00000000e+000,  0.00000000e+000,  6.92581693e-310,\n",
              "            3.10641396e-063],\n",
              "          [ 0.00000000e+000,  0.00000000e+000,  0.00000000e+000,\n",
              "            0.00000000e+000],\n",
              "          [ 0.00000000e+000,  0.00000000e+000,  6.92581688e-310,\n",
              "            3.18453446e+210],\n",
              "          ...,\n",
              "          [ 0.00000000e+000,  0.00000000e+000,  0.00000000e+000,\n",
              "            0.00000000e+000],\n",
              "          [ 0.00000000e+000,  0.00000000e+000,  6.92581693e-310,\n",
              "            4.64938099e-137],\n",
              "          [ 0.00000000e+000,  0.00000000e+000,  0.00000000e+000,\n",
              "            0.00000000e+000]],\n",
              "\n",
              "         [[ 0.00000000e+000,  0.00000000e+000,  0.00000000e+000,\n",
              "            0.00000000e+000],\n",
              "          [ 0.00000000e+000,  0.00000000e+000,  0.00000000e+000,\n",
              "            0.00000000e+000],\n",
              "          [ 0.00000000e+000,  0.00000000e+000,  6.92581693e-310,\n",
              "           -2.03420841e-075],\n",
              "          ...,\n",
              "          [ 0.00000000e+000,  0.00000000e+000,  6.92581696e-310,\n",
              "           -1.12022431e+269],\n",
              "          [ 0.00000000e+000,  0.00000000e+000,  0.00000000e+000,\n",
              "            0.00000000e+000],\n",
              "          [ 0.00000000e+000,  0.00000000e+000,  0.00000000e+000,\n",
              "            0.00000000e+000]],\n",
              "\n",
              "         [[ 0.00000000e+000,  0.00000000e+000,  0.00000000e+000,\n",
              "            0.00000000e+000],\n",
              "          [ 0.00000000e+000,  0.00000000e+000,  0.00000000e+000,\n",
              "            0.00000000e+000],\n",
              "          [ 0.00000000e+000,  0.00000000e+000,  0.00000000e+000,\n",
              "            0.00000000e+000],\n",
              "          ...,\n",
              "          [ 0.00000000e+000,  0.00000000e+000,  0.00000000e+000,\n",
              "            0.00000000e+000],\n",
              "          [ 0.00000000e+000,  0.00000000e+000,  0.00000000e+000,\n",
              "            0.00000000e+000],\n",
              "          [ 0.00000000e+000,  0.00000000e+000,  6.92581693e-310,\n",
              "           -1.18727302e+096]],\n",
              "\n",
              "         [[ 6.92581554e-310,  3.89820930e-032,  0.00000000e+000,\n",
              "            0.00000000e+000],\n",
              "          [ 6.92581693e-310,  4.16957496e+203,  0.00000000e+000,\n",
              "            0.00000000e+000],\n",
              "          [ 0.00000000e+000,  0.00000000e+000,  0.00000000e+000,\n",
              "            0.00000000e+000],\n",
              "          ...,\n",
              "          [ 0.00000000e+000,  0.00000000e+000,  0.00000000e+000,\n",
              "            0.00000000e+000],\n",
              "          [ 0.00000000e+000,  0.00000000e+000,  6.92581693e-310,\n",
              "           -1.82022351e-067],\n",
              "          [ 0.00000000e+000,  0.00000000e+000,  0.00000000e+000,\n",
              "            0.00000000e+000]],\n",
              "\n",
              "         [[ 0.00000000e+000,  0.00000000e+000,  0.00000000e+000,\n",
              "            0.00000000e+000],\n",
              "          [ 0.00000000e+000,  0.00000000e+000,  6.92581693e-310,\n",
              "            9.54833066e+147],\n",
              "          [ 6.92581694e-310,  6.32712386e-127,  0.00000000e+000,\n",
              "            0.00000000e+000],\n",
              "          ...,\n",
              "          [ 0.00000000e+000,  0.00000000e+000,  6.92581693e-310,\n",
              "            1.19830767e+288],\n",
              "          [ 0.00000000e+000,  0.00000000e+000,  0.00000000e+000,\n",
              "            0.00000000e+000],\n",
              "          [ 6.92580649e-310, -1.29215400e+138,  0.00000000e+000,\n",
              "            0.00000000e+000]]]],\n",
              "\n",
              "\n",
              "\n",
              "       ...,\n",
              "\n",
              "\n",
              "\n",
              "       [[[[ 9.31115231e+242,  2.59031262e-144,  8.95412132e-096,\n",
              "            1.16467185e-028],\n",
              "          [ 6.47491823e+170,  1.04918958e-153,  1.94918964e-153,\n",
              "            2.02697730e+267],\n",
              "          [ 9.15349812e+199,  5.49617738e-143,  1.20253454e+285,\n",
              "            1.16466606e-028],\n",
              "          ...,\n",
              "          [ 1.16096835e-028,  1.39028129e-142,  1.94920672e-153,\n",
              "            5.23584276e-143],\n",
              "          [ 5.22146600e+180,  3.74260000e+233,  1.38760021e+219,\n",
              "            2.59549710e+251],\n",
              "          [ 4.91303153e-019,  5.67483605e-008,  6.77023429e+223,\n",
              "            1.94918965e-153]],\n",
              "\n",
              "         [[ 4.03804343e+246,  7.00699346e-077,  1.16071791e-028,\n",
              "            9.06707496e+271],\n",
              "          [ 5.28596519e-085,  9.49439209e+170,  1.11529837e+277,\n",
              "            5.28028138e+256],\n",
              "          [ 9.74822586e-144,  2.13726192e+161,  2.59903818e-144,\n",
              "            8.76794535e+252],\n",
              "          ...,\n",
              "          [ 5.49617738e-143,  1.20253454e+285,  1.16466606e-028,\n",
              "            6.01409632e+175],\n",
              "          [ 2.59549724e+251,  3.27601652e+222,  7.33953019e+223,\n",
              "            2.59549710e+251],\n",
              "          [ 4.91303153e-019,  5.67483605e-008,  6.77023429e+223,\n",
              "            1.94918965e-153]],\n",
              "\n",
              "         [[ 4.03804343e+246,  7.00699346e-077,  1.16071791e-028,\n",
              "            9.06707496e+271],\n",
              "          [ 5.28596519e-085,  4.31992583e-096,  1.16096643e-028,\n",
              "            5.76502240e+228],\n",
              "          [ 3.96041427e+246,  4.78719421e+180,  1.06239596e-153,\n",
              "            1.04796651e-142],\n",
              "          ...,\n",
              "          [ 2.59903818e-144,  8.76794535e+252,  7.54961842e-096,\n",
              "            1.94918849e-153],\n",
              "          [ 1.11789342e+253,  1.01484447e+242,  4.30626351e-096,\n",
              "            1.16096643e-028],\n",
              "          [ 5.76502240e+228,  3.96041427e+246,  4.78719421e+180,\n",
              "            1.06239596e-153]],\n",
              "\n",
              "         [[ 1.04796651e-142,  6.11130817e+223,  2.59031995e-144,\n",
              "            2.59903832e-144],\n",
              "          [ 4.61983892e+281,  6.32275928e+233,  1.22813731e+224,\n",
              "            4.27059546e-096],\n",
              "          [ 3.99369869e+252,  2.90316257e-144,  2.87505123e+161,\n",
              "            1.05117823e-153],\n",
              "          ...,\n",
              "          [ 2.90316257e-144,  2.87505123e+161,  1.05117823e-153,\n",
              "            1.97229320e-062],\n",
              "          [ 1.04917089e-142,  8.69810273e+199,  2.15922555e+185,\n",
              "            6.32275928e+233],\n",
              "          [ 1.22813731e+224,  4.27059546e-096,  3.99369869e+252,\n",
              "            2.90316257e-144]],\n",
              "\n",
              "         [[ 2.87505123e+161,  1.05117823e-153,  1.97229320e-062,\n",
              "            1.04917089e-142],\n",
              "          [ 8.69810273e+199,  1.11529837e+277,  5.28028138e+256,\n",
              "            9.74822586e-144],\n",
              "          [ 2.13726192e+161,  2.59903818e-144,  8.76794535e+252,\n",
              "            7.54961842e-096],\n",
              "          ...,\n",
              "          [ 4.03804343e+246,  7.00699346e-077,  1.16071791e-028,\n",
              "            9.06707496e+271],\n",
              "          [ 5.28596519e-085,  8.90429270e+247,  4.27255605e+180,\n",
              "            3.12915918e+209],\n",
              "          [ 1.04915603e-153,  6.12030516e+257,  5.79058873e+294,\n",
              "            9.31115231e+242]]],\n",
              "\n",
              "\n",
              "        [[[ 2.59031262e-144,  8.95412132e-096,  1.16467185e-028,\n",
              "            5.95953573e+228],\n",
              "          [ 1.11529837e+277,  5.28028138e+256,  9.74822586e-144,\n",
              "            2.13726192e+161],\n",
              "          [ 2.59903818e-144,  8.76794535e+252,  7.54961842e-096,\n",
              "            1.94918849e-153],\n",
              "          ...,\n",
              "          [ 1.94920672e-153,  5.23584276e-143,  5.22146600e+180,\n",
              "            3.74260000e+233],\n",
              "          [ 4.30534225e-096,  1.16096643e-028,  5.76502240e+228,\n",
              "            3.96041427e+246],\n",
              "          [ 4.78719421e+180,  1.06239596e-153,  1.04796651e-142,\n",
              "            6.11130817e+223]],\n",
              "\n",
              "         [[ 2.59031995e-144,  2.59903832e-144,  6.02669629e+175,\n",
              "            6.32275928e+233],\n",
              "          [ 1.22813731e+224,  4.27059546e-096,  3.99369869e+252,\n",
              "            2.90316257e-144],\n",
              "          [ 2.87505123e+161,  1.05117823e-153,  1.97229320e-062,\n",
              "            1.04917089e-142],\n",
              "          ...,\n",
              "          [ 1.46899937e+179,  1.05161525e-153,  1.94920675e-153,\n",
              "            4.30078717e-096],\n",
              "          [ 1.16096643e-028,  5.76502240e+228,  3.96041427e+246,\n",
              "            4.78719421e+180],\n",
              "          [ 1.06239596e-153,  1.04796651e-142,  6.11130817e+223,\n",
              "            2.59031995e-144]],\n",
              "\n",
              "         [[ 2.59903832e-144,  3.50251559e+151,  2.59027913e-144,\n",
              "            2.59903818e-144],\n",
              "          [ 1.35539822e+224,  1.41739410e+190,  1.16096835e-028,\n",
              "            1.39028129e-142],\n",
              "          [ 1.94920672e-153,  5.23584276e-143,  5.22146600e+180,\n",
              "            3.74260000e+233],\n",
              "          ...,\n",
              "          [ 2.59549724e+251,  3.27601652e+222,  1.72404378e+272,\n",
              "            6.32275928e+233],\n",
              "          [ 1.22813731e+224,  4.27059546e-096,  3.99369869e+252,\n",
              "            2.90316257e-144],\n",
              "          [ 2.87505123e+161,  1.05117823e-153,  1.97229320e-062,\n",
              "            1.04917089e-142]],\n",
              "\n",
              "         [[ 2.69673371e+161,  2.59549710e+251,  4.91303153e-019,\n",
              "            5.67483605e-008],\n",
              "          [ 6.77023429e+223,  1.94918965e-153,  4.03804343e+246,\n",
              "            7.00699346e-077],\n",
              "          [ 1.16071791e-028,  9.06707496e+271,  5.28596519e-085,\n",
              "            3.67149329e+228],\n",
              "          ...,\n",
              "          [ 8.95412132e-096,  1.16467185e-028,  4.45619681e+252,\n",
              "            9.28601753e+242],\n",
              "          [ 4.27255605e+180,  3.12915918e+209,  1.04915603e-153,\n",
              "            6.12030516e+257],\n",
              "          [ 5.79058873e+294,  9.31115231e+242,  2.59031262e-144,\n",
              "            8.95412132e-096]],\n",
              "\n",
              "         [[ 1.16467185e-028,  4.45619681e+252,  1.04496949e-142,\n",
              "            5.49419094e-143],\n",
              "          [ 7.93260771e+223,  2.59027869e-144,  2.28895457e+243,\n",
              "            2.18228540e-094],\n",
              "          [ 8.42244189e+252,  1.46899937e+179,  1.05161525e-153,\n",
              "            1.94920675e-153],\n",
              "          ...,\n",
              "          [ 1.16071791e-028,  9.06707496e+271,  5.28596519e-085,\n",
              "            7.35617922e+228],\n",
              "          [ 2.59027906e-144,  2.59903818e-144,  1.35539822e+224,\n",
              "            1.41739410e+190],\n",
              "          [ 1.16096835e-028,  1.39028129e-142,  1.94920672e-153,\n",
              "            5.23584276e-143]]],\n",
              "\n",
              "\n",
              "        [[[ 5.22146600e+180,  3.74260000e+233,  1.04496649e-142,\n",
              "            5.49419094e-143],\n",
              "          [ 7.93260771e+223,  2.59027869e-144,  2.28895457e+243,\n",
              "            2.18228540e-094],\n",
              "          [ 8.42244189e+252,  1.46899937e+179,  1.05161525e-153,\n",
              "            1.94920675e-153],\n",
              "          ...,\n",
              "          [ 7.00699346e-077,  1.16071791e-028,  9.06707496e+271,\n",
              "            5.28596519e-085],\n",
              "          [ 7.35874662e+223,  1.06400250e+248,  4.27255605e+180,\n",
              "            3.12915918e+209],\n",
              "          [ 1.04915603e-153,  6.12030516e+257,  5.79058873e+294,\n",
              "            9.31115231e+242]],\n",
              "\n",
              "         [[ 2.59031262e-144,  8.95412132e-096,  1.16467185e-028,\n",
              "            4.91441927e+252],\n",
              "          [ 3.83498929e+151,  9.08367206e+223,  4.27255605e+180,\n",
              "            3.12915918e+209],\n",
              "          [ 1.04915603e-153,  6.12030516e+257,  5.79058873e+294,\n",
              "            9.31115231e+242],\n",
              "          ...,\n",
              "          [ 2.28895457e+243,  2.18228540e-094,  8.42244189e+252,\n",
              "            1.46899937e+179],\n",
              "          [ 1.05161525e-153,  1.94920675e-153,  8.07139567e+175,\n",
              "            1.04917752e-153],\n",
              "          [ 1.94918964e-153,  2.02697730e+267,  9.15349812e+199,\n",
              "            5.49617738e-143]],\n",
              "\n",
              "         [[ 1.20253454e+285,  1.16466606e-028,  6.01409632e+175,\n",
              "            2.59549724e+251],\n",
              "          [ 3.27601652e+222,  1.96266948e+243,  4.27255605e+180,\n",
              "            3.12915918e+209],\n",
              "          [ 1.04915603e-153,  6.12030516e+257,  5.79058873e+294,\n",
              "            9.31115231e+242],\n",
              "          ...,\n",
              "          [ 2.28895457e+243,  2.18228540e-094,  8.42244189e+252,\n",
              "            1.46899937e+179],\n",
              "          [ 1.05161525e-153,  1.94920675e-153,  5.28966986e+180,\n",
              "            1.04918104e-153],\n",
              "          [ 1.94918964e-153,  2.02697730e+267,  9.15349812e+199,\n",
              "            5.49617738e-143]],\n",
              "\n",
              "         [[ 1.20253454e+285,  1.16466606e-028,  6.01409632e+175,\n",
              "            2.59549724e+251],\n",
              "          [ 3.27601652e+222,  1.67876738e+243,  1.11529837e+277,\n",
              "            5.28028138e+256],\n",
              "          [ 9.74822586e-144,  2.13726192e+161,  2.59903818e-144,\n",
              "            8.76794535e+252],\n",
              "          ...,\n",
              "          [ 1.16096835e-028,  1.39028129e-142,  1.94920672e-153,\n",
              "            5.23584276e-143],\n",
              "          [ 5.22146600e+180,  3.74260000e+233,  6.34915895e+151,\n",
              "            4.32455864e-096],\n",
              "          [ 1.16096643e-028,  5.76502240e+228,  3.96041427e+246,\n",
              "            4.78719421e+180]],\n",
              "\n",
              "         [[ 1.06239596e-153,  1.04796651e-142,  6.11130817e+223,\n",
              "            2.59031995e-144],\n",
              "          [ 2.59903832e-144,  8.44741703e+252,  4.27255605e+180,\n",
              "            3.12915918e+209],\n",
              "          [ 1.04915603e-153,  6.12030516e+257,  5.79058873e+294,\n",
              "            9.31115231e+242],\n",
              "          ...,\n",
              "          [ 6.12030516e+257,  5.79058873e+294,  9.31115231e+242,\n",
              "            2.59031262e-144],\n",
              "          [ 8.95412132e-096,  1.16467185e-028,  1.41740457e+190,\n",
              "            6.32275928e+233],\n",
              "          [ 1.22813731e+224,  4.27059546e-096,  3.99369869e+252,\n",
              "            2.90316257e-144]]]],\n",
              "\n",
              "\n",
              "\n",
              "       [[[[ 2.87505123e+161,  1.05117823e-153,  1.97229320e-062,\n",
              "            1.04917089e-142],\n",
              "          [ 9.17650930e+199,  1.04918675e-153,  1.94918964e-153,\n",
              "            2.02697730e+267],\n",
              "          [ 9.15349812e+199,  5.49617738e-143,  1.20253454e+285,\n",
              "            1.16466606e-028],\n",
              "          ...,\n",
              "          [ 2.28895457e+243,  2.18228540e-094,  8.42244189e+252,\n",
              "            1.46899937e+179],\n",
              "          [ 1.05161525e-153,  1.94920675e-153,  7.79355884e-143,\n",
              "            5.49419094e-143],\n",
              "          [ 7.93260771e+223,  2.59027869e-144,  2.28895457e+243,\n",
              "            2.18228540e-094]],\n",
              "\n",
              "         [[ 8.42244189e+252,  1.46899937e+179,  1.05161525e-153,\n",
              "            1.94920675e-153],\n",
              "          [ 9.18187359e+170,  4.27255605e+180,  3.12915918e+209,\n",
              "            1.04915603e-153],\n",
              "          [ 6.12030516e+257,  5.79058873e+294,  9.31115231e+242,\n",
              "            2.59031262e-144],\n",
              "          ...,\n",
              "          [ 4.03804343e+246,  7.00699346e-077,  1.16071791e-028,\n",
              "            9.06707496e+271],\n",
              "          [ 5.28596519e-085,  3.67589462e+228,  1.04918902e-153,\n",
              "            1.94918964e-153],\n",
              "          [ 2.02697730e+267,  9.15349812e+199,  5.49617738e-143,\n",
              "            1.20253454e+285]],\n",
              "\n",
              "         [[ 1.16466606e-028,  6.01409632e+175,  2.59549724e+251,\n",
              "            3.27601652e+222],\n",
              "          [ 4.30899964e-096,  1.16096643e-028,  5.76502240e+228,\n",
              "            3.96041427e+246],\n",
              "          [ 4.78719421e+180,  1.06239596e-153,  1.04796651e-142,\n",
              "            6.11130817e+223],\n",
              "          ...,\n",
              "          [ 8.42244189e+252,  1.46899937e+179,  1.05161525e-153,\n",
              "            1.94920675e-153],\n",
              "          [ 3.81695151e+180,  2.59027907e-144,  2.59903818e-144,\n",
              "            1.35539822e+224],\n",
              "          [ 1.41739410e+190,  1.16096835e-028,  1.39028129e-142,\n",
              "            1.94920672e-153]],\n",
              "\n",
              "         [[ 5.23584276e-143,  5.22146600e+180,  3.74260000e+233,\n",
              "            1.04918677e-153],\n",
              "          [ 1.94918964e-153,  2.02697730e+267,  9.15349812e+199,\n",
              "            5.49617738e-143],\n",
              "          [ 1.20253454e+285,  1.16466606e-028,  6.01409632e+175,\n",
              "            2.59549724e+251],\n",
              "          ...,\n",
              "          [ 1.04796651e-142,  6.11130817e+223,  2.59031995e-144,\n",
              "            2.59903832e-144],\n",
              "          [ 1.11460097e+171,  6.32275928e+233,  1.22813731e+224,\n",
              "            4.27059546e-096],\n",
              "          [ 3.99369869e+252,  2.90316257e-144,  8.76730942e+252,\n",
              "            2.59903831e-144]],\n",
              "\n",
              "         [[ 2.48139530e-319,  2.48218580e-319,  6.95331468e-310,\n",
              "            2.47922141e-319],\n",
              "          [ 0.00000000e+000,  0.00000000e+000,  6.92555766e-310,\n",
              "            3.16251369e+180],\n",
              "          [ 3.74271162e+233,  2.67776338e+098,  4.28964688e-096,\n",
              "            1.16035672e+200],\n",
              "          ...,\n",
              "          [ 1.04917820e-153,  1.49932486e+151,  2.59027883e-144,\n",
              "            2.31112378e+021],\n",
              "          [ 4.29059012e-096,  3.63448593e+088,  1.36599872e-143,\n",
              "            2.10680078e+088],\n",
              "          [ 1.04916108e-153,  1.49932486e+151,  1.04916848e-153,\n",
              "            1.49932486e+151]]],\n",
              "\n",
              "\n",
              "        [[[ 1.04915995e-153,  1.49932486e+151,  2.59027885e-144,\n",
              "            7.39468357e+097],\n",
              "          [ 1.36470280e+069,  3.11460869e+088,  5.28596519e-085,\n",
              "            1.98799543e+045],\n",
              "          [ 1.29127614e+074,  1.20582017e+030,  2.17653883e+059,\n",
              "            3.74259990e+233],\n",
              "          ...,\n",
              "          [ 1.30463980e-142,  3.82486486e+006,  1.04916791e-153,\n",
              "            2.06674386e+151],\n",
              "          [ 6.49215639e+073,  2.59027889e-144,  4.08693333e+093,\n",
              "            6.36249308e+006],\n",
              "          [ 3.74259990e+233,  3.16157511e+021,  9.75012829e+199,\n",
              "            7.35423705e+223]],\n",
              "\n",
              "         [[ 5.28596519e-085,  3.27597791e+222,  4.27779564e-096,\n",
              "            1.27205090e+026],\n",
              "          [ 3.74259990e+233,  2.59027885e-144,  1.42905848e-143,\n",
              "            1.09535366e+127],\n",
              "          [ 3.27597791e+222,  1.36624306e-143,  6.39035664e+160,\n",
              "            7.35423705e+223],\n",
              "          ...,\n",
              "          [ 3.27597791e+222,  1.65916351e+151,  9.99141161e+073,\n",
              "            5.28596519e-085],\n",
              "          [ 2.83166169e+276,  3.74259990e+233,  9.42872001e-143,\n",
              "            1.91235311e+228],\n",
              "          [ 1.94930749e+243,  3.74259990e+233,  4.30073816e-096,\n",
              "            6.25245458e+102]],\n",
              "\n",
              "         [[ 1.71936412e+045,  4.83630726e+102,  3.74259990e+233,\n",
              "            1.44799925e+079],\n",
              "          [ 3.98096660e+006,  3.74259990e+233,  3.68067497e+180,\n",
              "            3.98384720e+252],\n",
              "          [ 7.28297411e+199,  3.74259990e+233,  1.04916617e-153,\n",
              "            9.93509634e-143],\n",
              "          ...,\n",
              "          [ 3.33756672e+151,  2.35649080e+257,  2.59027905e-144,\n",
              "            4.31264994e-096],\n",
              "          [ 1.91079208e+214,  1.04917823e-153,  6.51211052e+252,\n",
              "            3.27597791e+222],\n",
              "          [ 4.32358350e-096,  7.02770043e+199,  5.28596519e-085,\n",
              "            1.04917822e-153]],\n",
              "\n",
              "         [[ 1.30343210e-142,  2.13395513e+233,  2.59027906e-144,\n",
              "            7.87705057e+276],\n",
              "          [ 1.10378140e+161,  3.27597791e+222,  8.32213430e+151,\n",
              "            4.26008103e-319],\n",
              "          [ 6.92581711e-310,  6.92581711e-310,  0.00000000e+000,\n",
              "            0.00000000e+000],\n",
              "          ...,\n",
              "          [ 9.16526748e+242,  1.04917993e-153,  1.03459496e+219,\n",
              "            3.74259990e+233],\n",
              "          [ 7.79353625e-143,  9.16526748e+242,  9.76520296e+199,\n",
              "            3.74259990e+233],\n",
              "          [ 8.44749362e+252,  1.33733642e+160,  5.49611463e-143,\n",
              "            9.16526748e+242]],\n",
              "\n",
              "         [[ 2.59027906e-144,  4.83245960e+276,  1.33733642e+160,\n",
              "            2.18177314e+243],\n",
              "          [ 3.27597791e+222,  8.30807897e+151,  1.04918218e-153,\n",
              "            2.59345444e+161],\n",
              "          [ 1.14868692e-142,  9.16526748e+242,  1.74928973e+243,\n",
              "            1.33733642e+160],\n",
              "          ...,\n",
              "          [ 8.30807897e+151,  5.82659549e+252,  5.28596519e-085,\n",
              "            1.41767651e+190],\n",
              "          [ 2.59345502e+161,  5.28596519e-085,  4.83245961e+276,\n",
              "            1.33733642e+160],\n",
              "          [ 5.04533236e+223,  1.04918958e-153,  2.07025262e+161,\n",
              "            2.59027925e-144]]],\n",
              "\n",
              "\n",
              "        [[[ 1.50598685e+161,  1.04917752e-153,  3.68977620e+180,\n",
              "            4.30512763e-096],\n",
              "          [ 2.74430832e+214,  5.17675910e-143,  1.69069344e+262,\n",
              "            1.04917821e-153],\n",
              "          [ 8.42231416e+252,  2.59027921e-144,  3.51082677e+151,\n",
              "            2.59027919e-144],\n",
              "          ...,\n",
              "          [ 5.28596519e-085,  3.51084695e+151,  3.74259990e+233,\n",
              "            5.03439431e+180],\n",
              "          [ 2.59027919e-144,  1.99110117e+209,  3.27597791e+222,\n",
              "            7.01873799e-143],\n",
              "          [ 8.02258375e+218,  3.74259990e+233,  4.26510187e-096,\n",
              "            5.94769096e+228]],\n",
              "\n",
              "         [[ 3.74259990e+233,  1.36317873e+161,  3.74259990e+233,\n",
              "            1.36317873e+161],\n",
              "          [ 4.83245961e+276,  5.28596519e-085,  6.07886271e+247,\n",
              "            7.49498376e+247],\n",
              "          [ 8.76436794e+164,  8.88054509e+252,  3.27597791e+222,\n",
              "            4.81731690e+276],\n",
              "          ...,\n",
              "          [ 3.48191636e+228,  2.59027920e-144,  7.50057409e+247,\n",
              "            5.28596519e-085],\n",
              "          [ 4.30078794e-096,  4.02177521e-143,  1.34836686e+161,\n",
              "            4.31999007e-096],\n",
              "          [ 6.07857497e+247,  5.28596519e-085,  2.59027921e-144,\n",
              "            1.97498433e+166]],\n",
              "\n",
              "         [[ 3.74259990e+233,  1.04918220e-153,  5.38225556e+228,\n",
              "            3.74259990e+233],\n",
              "          [ 1.04918559e-153,  9.28601740e+242,  1.04918560e-153,\n",
              "            9.28601740e+242],\n",
              "          [ 1.04918958e-153,  5.95228527e+228,  3.74259990e+233,\n",
              "            1.04918447e-153],\n",
              "          ...,\n",
              "          [ 1.04917823e-153,  3.65588291e+233,  9.28601896e+242,\n",
              "            4.31909711e-096],\n",
              "          [ 1.38497708e+219,  3.27597791e+222,  3.68777431e+180,\n",
              "            2.59027864e-144],\n",
              "          [ 2.21211602e+214,  1.04915135e-153,  3.65588291e+233,\n",
              "            1.04915022e-153]],\n",
              "\n",
              "         [[ 3.65588291e+233,  2.59027901e-144,  2.21211602e+214,\n",
              "            9.75021609e+199],\n",
              "          [ 3.74259990e+233,  7.49779510e+247,  5.28596519e-085,\n",
              "            6.20422359e+223],\n",
              "          [ 3.27597791e+222,  4.31082851e-096,  9.07658578e+223,\n",
              "            4.30627779e-096],\n",
              "          ...,\n",
              "          [ 3.63518985e+228,  4.30713880e-096,  1.67433455e+243,\n",
              "            4.30627779e-096],\n",
              "          [ 1.09729189e+248,  5.74381617e+169,  3.27597791e+222,\n",
              "            6.68802128e+151],\n",
              "          [ 8.05878127e-143,  3.63518985e+228,  5.28596519e-085,\n",
              "            1.04918620e-153]],\n",
              "\n",
              "         [[ 7.35981802e+223,  3.27597791e+222,  7.49511203e+247,\n",
              "            3.27597791e+222],\n",
              "          [ 6.98904916e+228,  5.28596519e-085,  3.06837317e+257,\n",
              "            3.74259990e+233],\n",
              "          [ 7.54930567e-143,  1.41866238e+161,  3.56792062e-057,\n",
              "            3.76426737e+174],\n",
              "          ...,\n",
              "          [ 5.28596519e-085,  4.30627785e-096,  2.65683460e+233,\n",
              "            4.30627779e-096],\n",
              "          [ 2.65683460e+233,  1.01235946e+267,  4.98057419e-143,\n",
              "            4.82745794e+199],\n",
              "          [ 3.74259990e+233,  7.33724443e+223,  1.04918617e-153,\n",
              "            9.69723857e+189]]]],\n",
              "\n",
              "\n",
              "\n",
              "       [[[[ 7.47727343e+247,  1.04918278e-153,  9.69723857e+189,\n",
              "            2.59027921e-144],\n",
              "          [ 4.43099019e+228,  3.27597791e+222,  4.30714229e-096,\n",
              "            1.41414126e+190],\n",
              "          [ 1.04917825e-153,  4.82191872e+233,  3.76426737e+174,\n",
              "            1.04917820e-153],\n",
              "          ...,\n",
              "          [ 5.49419094e-143,  5.42808691e-143,  4.19104394e+175,\n",
              "            1.04917752e-153],\n",
              "          [ 1.06318086e+248,  3.74259990e+233,  4.82150675e+151,\n",
              "            2.59027910e-144],\n",
              "          [ 1.48776265e+195,  2.46695026e+179,  2.59027926e-144,\n",
              "            1.13224202e+277]],\n",
              "\n",
              "         [[ 1.04917822e-153,  3.01468701e+161,  5.28596519e-085,\n",
              "            5.28562263e+180],\n",
              "          [ 2.46695026e+179,  7.67946478e+218,  3.74259990e+233,\n",
              "            2.59027917e-144],\n",
              "          [ 5.90673361e-144,  8.95201551e+271,  1.12043109e+219,\n",
              "            5.28596519e-085],\n",
              "          ...,\n",
              "          [ 3.27597791e+222,  1.04918674e-153,  1.91295340e+214,\n",
              "            2.13945643e+161],\n",
              "          [ 5.28596519e-085,  1.38501004e+219,  4.27255699e+180,\n",
              "            1.61674052e+184],\n",
              "          [ 2.59027916e-144,  4.32361198e-096,  1.99633297e+161,\n",
              "            1.04918560e-153]],\n",
              "\n",
              "         [[ 3.99190446e+252,  8.05878127e-143,  1.49346809e+214,\n",
              "            4.30624923e-096],\n",
              "          [ 6.79316909e+199,  5.28596519e-085,  4.31813650e-096,\n",
              "            6.79316909e+199],\n",
              "          [ 3.27597791e+222,  1.84560231e-070,  3.74259990e+233,\n",
              "            1.19429300e-047],\n",
              "          ...,\n",
              "          [ 9.75021609e+199,  3.74259990e+233,  4.31814720e-096,\n",
              "            5.38210304e+228],\n",
              "          [ 5.03812931e+175,  5.28596519e-085,  2.59027925e-144,\n",
              "            7.79353623e-143],\n",
              "          [ 9.78759247e+218,  3.74259990e+233,  6.67135870e+151,\n",
              "            6.20585357e+228]],\n",
              "\n",
              "         [[ 1.17365078e+214,  1.61674052e+184,  1.50635948e+214,\n",
              "            3.29218405e+180],\n",
              "          [ 4.30440979e-096,  1.67495968e+243,  1.28515829e+248,\n",
              "            3.74259990e+233],\n",
              "          [ 4.31635043e-096,  6.97387871e+228,  1.99110750e+209,\n",
              "            1.61674052e+184],\n",
              "          ...,\n",
              "          [ 4.32374708e+185,  3.27597791e+222,  4.77907016e+180,\n",
              "            3.27597791e+222],\n",
              "          [ 8.90210855e+252,  2.59027909e-144,  7.28403737e-143,\n",
              "            3.33054513e+257],\n",
              "          [ 5.48912304e-143,  6.99885952e+170,  5.28596519e-085,\n",
              "            4.97462278e-143]],\n",
              "\n",
              "         [[ 3.00598728e+180,  1.12057363e+253,  1.05954707e+189,\n",
              "            2.51313104e+180],\n",
              "          [ 1.05954707e+189,  4.83245961e+276,  1.04918445e-153,\n",
              "            6.67644207e+151],\n",
              "          [ 5.48216268e-143,  3.00598728e+180,  7.74413024e+228,\n",
              "            4.31905802e-096],\n",
              "          ...,\n",
              "          [ 3.45211644e+175,  2.59027921e-144,  3.98568242e+252,\n",
              "            3.74259990e+233],\n",
              "          [ 1.14447725e+243,  4.31261094e-096,  1.17200599e+214,\n",
              "            5.28596519e-085],\n",
              "          [ 6.00465946e-143,  1.69984450e+161,  1.04917936e-153,\n",
              "            1.71182222e+262]]],\n",
              "\n",
              "\n",
              "        [[[ 1.04917820e-153,  8.89489803e+252,  1.04918275e-153,\n",
              "            8.89489803e+252],\n",
              "          [ 5.17581251e-143,  5.78427109e+199,  4.80871750e+151,\n",
              "            3.03331816e+180],\n",
              "          [ 5.28596519e-085,  2.58744404e+161,  3.27597791e+222,\n",
              "            5.82483021e+252],\n",
              "          ...,\n",
              "          [ 9.70598323e+189,  4.55072001e+198,  3.27597791e+222,\n",
              "            7.98578458e+151],\n",
              "          [ 3.27597791e+222,  2.51715952e+180,  5.28596519e-085,\n",
              "            1.04496340e-142],\n",
              "          [ 7.28193369e+223,  5.28596519e-085,  2.59027916e-144,\n",
              "            1.13007898e+277]],\n",
              "\n",
              "         [[ 4.55072001e+198,  2.59027919e-144,  1.14427947e+243,\n",
              "            5.28596519e-085],\n",
              "          [ 2.59027856e-144,  1.19430655e-047,  4.55072001e+198,\n",
              "            2.59027858e-144],\n",
              "          [ 3.57725758e-057,  4.55072001e+198,  3.27597791e+222,\n",
              "            4.30079163e-096],\n",
              "          ...,\n",
              "          [ 5.28596519e-085,  4.31998655e-096,  6.35393427e+151,\n",
              "            4.32449777e-096],\n",
              "          [ 1.17209399e+171,  2.59027907e-144,  1.38502352e+219,\n",
              "            2.59027925e-144],\n",
              "          [ 1.38502352e+219,  6.76147050e-143,  8.80331766e+247,\n",
              "            4.30627790e-096]],\n",
              "\n",
              "         [[ 3.29915130e+185,  4.31443967e-096,  9.28628534e+199,\n",
              "            5.28596519e-085],\n",
              "          [ 1.04917879e-153,  2.14055673e+161,  5.28596519e-085,\n",
              "            1.04918673e-153],\n",
              "          [ 3.94863022e+180,  2.59027908e-144,  1.09910397e+248,\n",
              "            3.27597791e+222],\n",
              "          ...,\n",
              "          [ 6.36697561e+151,  4.55072001e+198,  6.32301042e+233,\n",
              "            5.28596519e-085],\n",
              "          [ 4.45637866e+252,  3.27597791e+222,  8.03757278e+165,\n",
              "            3.74259990e+233],\n",
              "          [ 2.59027901e-144,  5.03430711e+180,  5.28596519e-085,\n",
              "            1.54607206e+262]],\n",
              "\n",
              "         [[ 4.31448955e-096,  6.98128170e+228,  5.28596519e-085,\n",
              "            3.27597791e+222],\n",
              "          [ 8.44157528e-143,  3.65434908e+180,  5.13478365e+252,\n",
              "            1.28091381e+213],\n",
              "          [ 3.27597791e+222,  2.03916140e+180,  2.59027913e-144,\n",
              "            7.37988019e+228],\n",
              "          ...,\n",
              "          [ 5.22286945e-143,  5.34083717e+228,  1.04918678e-153,\n",
              "            6.00567127e-143],\n",
              "          [ 5.34083717e+228,  3.27597790e+222,  8.29944336e-143,\n",
              "            5.34083717e+228],\n",
              "          [ 3.74259990e+233,  2.64429322e+180,  3.74259990e+233,\n",
              "            2.64429322e+180]],\n",
              "\n",
              "         [[ 3.27597790e+222,  1.36455813e+161,  1.04917765e-153,\n",
              "            5.60578750e+199],\n",
              "          [ 1.04737599e-142,  5.34083717e+228,  1.67355147e+243,\n",
              "            1.28091381e+213],\n",
              "          [ 6.64031591e+271,  3.74259990e+233,  5.26520924e+170,\n",
              "            5.28596519e-085],\n",
              "          ...,\n",
              "          [ 4.24889428e+228,  5.28596519e-085,  3.74259990e+233,\n",
              "            7.33726239e+223],\n",
              "          [ 1.04918617e-153,  1.04457214e-142,  2.05132214e+161,\n",
              "            3.74259990e+233],\n",
              "          [ 7.29301568e-143,  2.05132214e+161,  2.59027925e-144,\n",
              "            8.82880750e+199]]],\n",
              "\n",
              "\n",
              "        [[[ 2.59027904e-144,  4.32358350e-096,  7.36505543e+271,\n",
              "            2.59027914e-144],\n",
              "          [ 1.12387975e+219,  6.32300688e+233,  5.28596519e-085,\n",
              "            9.28614920e+242],\n",
              "          [ 1.02123424e+277,  8.39459674e+217,  3.27597791e+222,\n",
              "            5.03509509e+223],\n",
              "          ...,\n",
              "          [ 4.27255699e+180,  8.39459674e+217,  4.31359665e-096,\n",
              "            7.35280766e+223],\n",
              "          [ 2.64986903e+180,  8.39459674e+217,  3.74259990e+233,\n",
              "            1.04917877e-153],\n",
              "          [ 5.81846622e+180,  2.59027920e-144,  8.44749378e+252,\n",
              "            8.39459674e+217]],\n",
              "\n",
              "         [[ 1.30304359e-142,  2.12161766e+161,  5.28596519e-085,\n",
              "            4.54522481e+223],\n",
              "          [ 3.74259990e+233,  1.03459513e+219,  3.74259990e+233,\n",
              "            1.03459513e+219],\n",
              "          [ 3.74259990e+233,  3.65879436e+233,  3.27597791e+222,\n",
              "            1.88753590e+219],\n",
              "          ...,\n",
              "          [ 1.14365432e+243,  5.49012421e-143,  2.12161766e+161,\n",
              "            1.04917766e-153],\n",
              "          [ 2.47287837e+238,  5.49012421e-143,  2.12161766e+161,\n",
              "            2.59027906e-144],\n",
              "          [ 5.83519468e+257,  5.28596519e-085,  4.31809729e-096,\n",
              "            5.10482316e+276]],\n",
              "\n",
              "         [[ 3.27597791e+222,  2.59345489e+161,  5.28596519e-085,\n",
              "            1.14303493e+243],\n",
              "          [ 3.27597791e+222,  4.31355366e-096,  4.88701790e+199,\n",
              "            2.59027925e-144],\n",
              "          [ 5.29366375e+180,  5.28596519e-085,  5.81241632e+180,\n",
              "            5.50148292e+222],\n",
              "          ...,\n",
              "          [ 7.27302608e-143,  4.53174783e+257,  4.32449796e-096,\n",
              "            1.89124180e+219],\n",
              "          [ 3.27597791e+222,  1.15917623e+171,  2.59027907e-144,\n",
              "            6.46572285e+170],\n",
              "          [ 3.74259990e+233,  6.67387592e+151,  3.60545185e+227,\n",
              "            2.59027906e-144]],\n",
              "\n",
              "         [[ 4.56341101e+257,  1.04917707e-153,  7.49232601e+247,\n",
              "            3.60545185e+227],\n",
              "          [ 3.55455412e+180,  3.60545185e+227,  5.28596519e-085,\n",
              "            1.04918560e-153],\n",
              "          [ 1.99110712e+209,  2.59027920e-144,  4.30529574e-096,\n",
              "            9.30225813e+242],\n",
              "          ...,\n",
              "          [ 1.30304283e-142,  6.13328149e+228,  2.59027906e-144,\n",
              "            3.57432732e+161],\n",
              "          [ 3.74259990e+233,  1.14116280e+243,  2.36286892e+232,\n",
              "            4.32178317e-096],\n",
              "          [ 2.11672640e+214,  2.59027921e-144,  1.21628056e+200,\n",
              "            3.74259990e+233]],\n",
              "\n",
              "         [[ 2.88543404e+214,  2.36286892e+232,  1.78743824e+161,\n",
              "            5.28596519e-085],\n",
              "          [ 4.73037285e-143,  6.13328149e+228,  1.04918218e-153,\n",
              "            9.29797791e+199],\n",
              "          [ 2.59027907e-144,  1.14511381e+243,  2.36286892e+232,\n",
              "            9.77824795e+199],\n",
              "          ...,\n",
              "          [ 2.59027921e-144,  1.10557000e+161,  1.16637254e+200,\n",
              "            5.28596519e-085],\n",
              "          [ 7.03469993e-143,  5.15958690e+257,  4.30624933e-096,\n",
              "            4.02928303e-143],\n",
              "          [ 2.55614266e+161,  1.04917934e-153,  4.87511811e+199,\n",
              "            3.27597791e+222]]]]])"
            ]
          },
          "execution_count": 198,
          "metadata": {},
          "output_type": "execute_result"
        }
      ],
      "source": [
        "arr"
      ]
    },
    {
      "cell_type": "code",
      "execution_count": null,
      "metadata": {
        "id": "SV2syYbVE6hW",
        "outputId": "36f68557-d9b6-4d33-b7b8-1b834cccf5db"
      },
      "outputs": [
        {
          "data": {
            "text/plain": [
              "array([[[[[ 6.95331468e-310],\n",
              "          [ 4.94065646e-324],\n",
              "          [ 9.79932320e-313],\n",
              "          ...,\n",
              "          [ 8.20230779e-307],\n",
              "          [ 2.65294172e+180],\n",
              "          [ 3.45845952e-323]],\n",
              "\n",
              "         [[ 3.95252517e-323],\n",
              "          [ 1.53609058e+171],\n",
              "          [-2.19448357e-132],\n",
              "          ...,\n",
              "          [ 3.56939937e+150],\n",
              "          [ 0.00000000e+000],\n",
              "          [ 1.99376588e-016]],\n",
              "\n",
              "         [[ 9.49646285e+164],\n",
              "          [ 0.00000000e+000],\n",
              "          [ 0.00000000e+000],\n",
              "          ...,\n",
              "          [ 0.00000000e+000],\n",
              "          [ 0.00000000e+000],\n",
              "          [-1.68409513e+159]],\n",
              "\n",
              "         [[-6.66085898e-254],\n",
              "          [-7.27030016e+106],\n",
              "          [ 0.00000000e+000],\n",
              "          ...,\n",
              "          [ 0.00000000e+000],\n",
              "          [ 0.00000000e+000],\n",
              "          [ 0.00000000e+000]],\n",
              "\n",
              "         [[ 0.00000000e+000],\n",
              "          [-2.58279194e+286],\n",
              "          [ 0.00000000e+000],\n",
              "          ...,\n",
              "          [ 0.00000000e+000],\n",
              "          [ 8.19081669e+173],\n",
              "          [-4.38996996e-052]]],\n",
              "\n",
              "\n",
              "        [[[ 0.00000000e+000],\n",
              "          [ 0.00000000e+000],\n",
              "          [ 0.00000000e+000],\n",
              "          ...,\n",
              "          [ 0.00000000e+000],\n",
              "          [ 0.00000000e+000],\n",
              "          [ 0.00000000e+000]],\n",
              "\n",
              "         [[ 0.00000000e+000],\n",
              "          [ 0.00000000e+000],\n",
              "          [ 0.00000000e+000],\n",
              "          ...,\n",
              "          [ 0.00000000e+000],\n",
              "          [ 0.00000000e+000],\n",
              "          [ 0.00000000e+000]],\n",
              "\n",
              "         [[ 0.00000000e+000],\n",
              "          [ 0.00000000e+000],\n",
              "          [ 0.00000000e+000],\n",
              "          ...,\n",
              "          [ 6.42996102e+106],\n",
              "          [ 0.00000000e+000],\n",
              "          [ 0.00000000e+000]],\n",
              "\n",
              "         [[ 0.00000000e+000],\n",
              "          [ 0.00000000e+000],\n",
              "          [ 0.00000000e+000],\n",
              "          ...,\n",
              "          [ 0.00000000e+000],\n",
              "          [ 0.00000000e+000],\n",
              "          [ 0.00000000e+000]],\n",
              "\n",
              "         [[-8.55402451e+197],\n",
              "          [ 0.00000000e+000],\n",
              "          [ 0.00000000e+000],\n",
              "          ...,\n",
              "          [ 0.00000000e+000],\n",
              "          [-1.08580260e+161],\n",
              "          [ 1.30941188e+222]]],\n",
              "\n",
              "\n",
              "        [[[ 0.00000000e+000],\n",
              "          [ 0.00000000e+000],\n",
              "          [ 0.00000000e+000],\n",
              "          ...,\n",
              "          [ 2.22343179e-243],\n",
              "          [ 1.85901115e+164],\n",
              "          [ 0.00000000e+000]],\n",
              "\n",
              "         [[ 0.00000000e+000],\n",
              "          [-4.92745150e-054],\n",
              "          [ 0.00000000e+000],\n",
              "          ...,\n",
              "          [ 0.00000000e+000],\n",
              "          [ 0.00000000e+000],\n",
              "          [ 0.00000000e+000]],\n",
              "\n",
              "         [[ 0.00000000e+000],\n",
              "          [ 0.00000000e+000],\n",
              "          [ 0.00000000e+000],\n",
              "          ...,\n",
              "          [ 0.00000000e+000],\n",
              "          [ 0.00000000e+000],\n",
              "          [ 0.00000000e+000]],\n",
              "\n",
              "         [[ 0.00000000e+000],\n",
              "          [ 0.00000000e+000],\n",
              "          [ 0.00000000e+000],\n",
              "          ...,\n",
              "          [ 0.00000000e+000],\n",
              "          [-1.52593939e+200],\n",
              "          [ 0.00000000e+000]],\n",
              "\n",
              "         [[ 0.00000000e+000],\n",
              "          [ 0.00000000e+000],\n",
              "          [ 3.62513218e+253],\n",
              "          ...,\n",
              "          [ 0.00000000e+000],\n",
              "          [ 0.00000000e+000],\n",
              "          [ 4.22232322e-263]]]],\n",
              "\n",
              "\n",
              "\n",
              "       [[[[ 2.48203452e-251],\n",
              "          [ 3.66939153e-052],\n",
              "          [ 0.00000000e+000],\n",
              "          ...,\n",
              "          [ 0.00000000e+000],\n",
              "          [ 0.00000000e+000],\n",
              "          [ 0.00000000e+000]],\n",
              "\n",
              "         [[ 1.24799705e-098],\n",
              "          [ 0.00000000e+000],\n",
              "          [ 2.26257033e+258],\n",
              "          ...,\n",
              "          [ 0.00000000e+000],\n",
              "          [ 0.00000000e+000],\n",
              "          [ 0.00000000e+000]],\n",
              "\n",
              "         [[ 0.00000000e+000],\n",
              "          [ 0.00000000e+000],\n",
              "          [ 0.00000000e+000],\n",
              "          ...,\n",
              "          [ 0.00000000e+000],\n",
              "          [ 0.00000000e+000],\n",
              "          [ 0.00000000e+000]],\n",
              "\n",
              "         [[ 0.00000000e+000],\n",
              "          [ 0.00000000e+000],\n",
              "          [ 0.00000000e+000],\n",
              "          ...,\n",
              "          [ 0.00000000e+000],\n",
              "          [ 0.00000000e+000],\n",
              "          [ 2.58262142e+232]],\n",
              "\n",
              "         [[ 0.00000000e+000],\n",
              "          [ 0.00000000e+000],\n",
              "          [ 0.00000000e+000],\n",
              "          ...,\n",
              "          [ 0.00000000e+000],\n",
              "          [ 0.00000000e+000],\n",
              "          [ 0.00000000e+000]]],\n",
              "\n",
              "\n",
              "        [[[ 0.00000000e+000],\n",
              "          [ 0.00000000e+000],\n",
              "          [ 0.00000000e+000],\n",
              "          ...,\n",
              "          [ 0.00000000e+000],\n",
              "          [ 0.00000000e+000],\n",
              "          [ 0.00000000e+000]],\n",
              "\n",
              "         [[-1.33018037e-296],\n",
              "          [ 0.00000000e+000],\n",
              "          [ 3.16312706e+221],\n",
              "          ...,\n",
              "          [ 0.00000000e+000],\n",
              "          [ 0.00000000e+000],\n",
              "          [ 0.00000000e+000]],\n",
              "\n",
              "         [[ 0.00000000e+000],\n",
              "          [ 8.96533827e+239],\n",
              "          [-3.27165891e-186],\n",
              "          ...,\n",
              "          [ 0.00000000e+000],\n",
              "          [ 0.00000000e+000],\n",
              "          [ 0.00000000e+000]],\n",
              "\n",
              "         [[ 0.00000000e+000],\n",
              "          [ 0.00000000e+000],\n",
              "          [ 0.00000000e+000],\n",
              "          ...,\n",
              "          [ 0.00000000e+000],\n",
              "          [ 0.00000000e+000],\n",
              "          [ 0.00000000e+000]],\n",
              "\n",
              "         [[ 0.00000000e+000],\n",
              "          [ 0.00000000e+000],\n",
              "          [ 0.00000000e+000],\n",
              "          ...,\n",
              "          [ 0.00000000e+000],\n",
              "          [ 0.00000000e+000],\n",
              "          [ 0.00000000e+000]]],\n",
              "\n",
              "\n",
              "        [[[ 0.00000000e+000],\n",
              "          [ 0.00000000e+000],\n",
              "          [ 0.00000000e+000],\n",
              "          ...,\n",
              "          [-1.77032617e+236],\n",
              "          [-1.39417608e+106],\n",
              "          [ 0.00000000e+000]],\n",
              "\n",
              "         [[ 0.00000000e+000],\n",
              "          [ 0.00000000e+000],\n",
              "          [ 2.33504582e+256],\n",
              "          ...,\n",
              "          [ 0.00000000e+000],\n",
              "          [ 0.00000000e+000],\n",
              "          [ 0.00000000e+000]],\n",
              "\n",
              "         [[ 0.00000000e+000],\n",
              "          [ 1.21656465e-259],\n",
              "          [ 2.00200343e+074],\n",
              "          ...,\n",
              "          [ 0.00000000e+000],\n",
              "          [ 0.00000000e+000],\n",
              "          [ 0.00000000e+000]],\n",
              "\n",
              "         [[ 0.00000000e+000],\n",
              "          [ 0.00000000e+000],\n",
              "          [ 0.00000000e+000],\n",
              "          ...,\n",
              "          [-3.23714489e+228],\n",
              "          [ 0.00000000e+000],\n",
              "          [ 0.00000000e+000]],\n",
              "\n",
              "         [[ 0.00000000e+000],\n",
              "          [ 1.11209092e+277],\n",
              "          [ 0.00000000e+000],\n",
              "          ...,\n",
              "          [ 0.00000000e+000],\n",
              "          [ 0.00000000e+000],\n",
              "          [ 0.00000000e+000]]]],\n",
              "\n",
              "\n",
              "\n",
              "       [[[[ 0.00000000e+000],\n",
              "          [ 0.00000000e+000],\n",
              "          [ 0.00000000e+000],\n",
              "          ...,\n",
              "          [ 0.00000000e+000],\n",
              "          [ 4.47915618e+247],\n",
              "          [ 0.00000000e+000]],\n",
              "\n",
              "         [[ 0.00000000e+000],\n",
              "          [ 0.00000000e+000],\n",
              "          [ 0.00000000e+000],\n",
              "          ...,\n",
              "          [ 0.00000000e+000],\n",
              "          [-9.80182650e-073],\n",
              "          [ 0.00000000e+000]],\n",
              "\n",
              "         [[ 0.00000000e+000],\n",
              "          [ 0.00000000e+000],\n",
              "          [ 0.00000000e+000],\n",
              "          ...,\n",
              "          [ 0.00000000e+000],\n",
              "          [ 0.00000000e+000],\n",
              "          [ 0.00000000e+000]],\n",
              "\n",
              "         [[ 0.00000000e+000],\n",
              "          [ 0.00000000e+000],\n",
              "          [ 0.00000000e+000],\n",
              "          ...,\n",
              "          [ 0.00000000e+000],\n",
              "          [ 0.00000000e+000],\n",
              "          [ 0.00000000e+000]],\n",
              "\n",
              "         [[ 0.00000000e+000],\n",
              "          [ 5.71863989e+056],\n",
              "          [ 0.00000000e+000],\n",
              "          ...,\n",
              "          [ 0.00000000e+000],\n",
              "          [ 5.15923357e-066],\n",
              "          [ 0.00000000e+000]]],\n",
              "\n",
              "\n",
              "        [[[ 0.00000000e+000],\n",
              "          [ 0.00000000e+000],\n",
              "          [ 0.00000000e+000],\n",
              "          ...,\n",
              "          [ 0.00000000e+000],\n",
              "          [ 0.00000000e+000],\n",
              "          [ 0.00000000e+000]],\n",
              "\n",
              "         [[ 0.00000000e+000],\n",
              "          [ 0.00000000e+000],\n",
              "          [-7.92338629e+139],\n",
              "          ...,\n",
              "          [ 2.47622667e-077],\n",
              "          [-1.28612862e-248],\n",
              "          [ 0.00000000e+000]],\n",
              "\n",
              "         [[ 0.00000000e+000],\n",
              "          [ 5.73568093e+044],\n",
              "          [ 0.00000000e+000],\n",
              "          ...,\n",
              "          [ 0.00000000e+000],\n",
              "          [ 0.00000000e+000],\n",
              "          [ 0.00000000e+000]],\n",
              "\n",
              "         [[ 0.00000000e+000],\n",
              "          [ 0.00000000e+000],\n",
              "          [ 0.00000000e+000],\n",
              "          ...,\n",
              "          [ 0.00000000e+000],\n",
              "          [ 0.00000000e+000],\n",
              "          [ 0.00000000e+000]],\n",
              "\n",
              "         [[ 0.00000000e+000],\n",
              "          [ 0.00000000e+000],\n",
              "          [ 0.00000000e+000],\n",
              "          ...,\n",
              "          [-6.27532770e+076],\n",
              "          [-1.62262348e+255],\n",
              "          [ 0.00000000e+000]]],\n",
              "\n",
              "\n",
              "        [[[ 3.10641396e-063],\n",
              "          [ 0.00000000e+000],\n",
              "          [ 3.18453446e+210],\n",
              "          ...,\n",
              "          [ 0.00000000e+000],\n",
              "          [ 4.64938099e-137],\n",
              "          [ 0.00000000e+000]],\n",
              "\n",
              "         [[ 0.00000000e+000],\n",
              "          [ 0.00000000e+000],\n",
              "          [-2.03420841e-075],\n",
              "          ...,\n",
              "          [-1.12022431e+269],\n",
              "          [ 0.00000000e+000],\n",
              "          [ 0.00000000e+000]],\n",
              "\n",
              "         [[ 0.00000000e+000],\n",
              "          [ 0.00000000e+000],\n",
              "          [ 0.00000000e+000],\n",
              "          ...,\n",
              "          [ 0.00000000e+000],\n",
              "          [ 0.00000000e+000],\n",
              "          [-1.18727302e+096]],\n",
              "\n",
              "         [[ 0.00000000e+000],\n",
              "          [ 0.00000000e+000],\n",
              "          [ 0.00000000e+000],\n",
              "          ...,\n",
              "          [ 0.00000000e+000],\n",
              "          [-1.82022351e-067],\n",
              "          [ 0.00000000e+000]],\n",
              "\n",
              "         [[ 0.00000000e+000],\n",
              "          [ 9.54833066e+147],\n",
              "          [ 0.00000000e+000],\n",
              "          ...,\n",
              "          [ 1.19830767e+288],\n",
              "          [ 0.00000000e+000],\n",
              "          [ 0.00000000e+000]]]],\n",
              "\n",
              "\n",
              "\n",
              "       ...,\n",
              "\n",
              "\n",
              "\n",
              "       [[[[ 1.16467185e-028],\n",
              "          [ 2.02697730e+267],\n",
              "          [ 1.16466606e-028],\n",
              "          ...,\n",
              "          [ 5.23584276e-143],\n",
              "          [ 2.59549710e+251],\n",
              "          [ 1.94918965e-153]],\n",
              "\n",
              "         [[ 9.06707496e+271],\n",
              "          [ 5.28028138e+256],\n",
              "          [ 8.76794535e+252],\n",
              "          ...,\n",
              "          [ 6.01409632e+175],\n",
              "          [ 2.59549710e+251],\n",
              "          [ 1.94918965e-153]],\n",
              "\n",
              "         [[ 9.06707496e+271],\n",
              "          [ 5.76502240e+228],\n",
              "          [ 1.04796651e-142],\n",
              "          ...,\n",
              "          [ 1.94918849e-153],\n",
              "          [ 1.16096643e-028],\n",
              "          [ 1.06239596e-153]],\n",
              "\n",
              "         [[ 2.59903832e-144],\n",
              "          [ 4.27059546e-096],\n",
              "          [ 1.05117823e-153],\n",
              "          ...,\n",
              "          [ 1.97229320e-062],\n",
              "          [ 6.32275928e+233],\n",
              "          [ 2.90316257e-144]],\n",
              "\n",
              "         [[ 1.04917089e-142],\n",
              "          [ 9.74822586e-144],\n",
              "          [ 7.54961842e-096],\n",
              "          ...,\n",
              "          [ 9.06707496e+271],\n",
              "          [ 3.12915918e+209],\n",
              "          [ 9.31115231e+242]]],\n",
              "\n",
              "\n",
              "        [[[ 5.95953573e+228],\n",
              "          [ 2.13726192e+161],\n",
              "          [ 1.94918849e-153],\n",
              "          ...,\n",
              "          [ 3.74260000e+233],\n",
              "          [ 3.96041427e+246],\n",
              "          [ 6.11130817e+223]],\n",
              "\n",
              "         [[ 6.32275928e+233],\n",
              "          [ 2.90316257e-144],\n",
              "          [ 1.04917089e-142],\n",
              "          ...,\n",
              "          [ 4.30078717e-096],\n",
              "          [ 4.78719421e+180],\n",
              "          [ 2.59031995e-144]],\n",
              "\n",
              "         [[ 2.59903818e-144],\n",
              "          [ 1.39028129e-142],\n",
              "          [ 3.74260000e+233],\n",
              "          ...,\n",
              "          [ 6.32275928e+233],\n",
              "          [ 2.90316257e-144],\n",
              "          [ 1.04917089e-142]],\n",
              "\n",
              "         [[ 5.67483605e-008],\n",
              "          [ 7.00699346e-077],\n",
              "          [ 3.67149329e+228],\n",
              "          ...,\n",
              "          [ 9.28601753e+242],\n",
              "          [ 6.12030516e+257],\n",
              "          [ 8.95412132e-096]],\n",
              "\n",
              "         [[ 5.49419094e-143],\n",
              "          [ 2.18228540e-094],\n",
              "          [ 1.94920675e-153],\n",
              "          ...,\n",
              "          [ 7.35617922e+228],\n",
              "          [ 1.41739410e+190],\n",
              "          [ 5.23584276e-143]]],\n",
              "\n",
              "\n",
              "        [[[ 5.49419094e-143],\n",
              "          [ 2.18228540e-094],\n",
              "          [ 1.94920675e-153],\n",
              "          ...,\n",
              "          [ 5.28596519e-085],\n",
              "          [ 3.12915918e+209],\n",
              "          [ 9.31115231e+242]],\n",
              "\n",
              "         [[ 4.91441927e+252],\n",
              "          [ 3.12915918e+209],\n",
              "          [ 9.31115231e+242],\n",
              "          ...,\n",
              "          [ 1.46899937e+179],\n",
              "          [ 1.04917752e-153],\n",
              "          [ 5.49617738e-143]],\n",
              "\n",
              "         [[ 2.59549724e+251],\n",
              "          [ 3.12915918e+209],\n",
              "          [ 9.31115231e+242],\n",
              "          ...,\n",
              "          [ 1.46899937e+179],\n",
              "          [ 1.04918104e-153],\n",
              "          [ 5.49617738e-143]],\n",
              "\n",
              "         [[ 2.59549724e+251],\n",
              "          [ 5.28028138e+256],\n",
              "          [ 8.76794535e+252],\n",
              "          ...,\n",
              "          [ 5.23584276e-143],\n",
              "          [ 4.32455864e-096],\n",
              "          [ 4.78719421e+180]],\n",
              "\n",
              "         [[ 2.59031995e-144],\n",
              "          [ 3.12915918e+209],\n",
              "          [ 9.31115231e+242],\n",
              "          ...,\n",
              "          [ 2.59031262e-144],\n",
              "          [ 6.32275928e+233],\n",
              "          [ 2.90316257e-144]]]],\n",
              "\n",
              "\n",
              "\n",
              "       [[[[ 1.04917089e-142],\n",
              "          [ 2.02697730e+267],\n",
              "          [ 1.16466606e-028],\n",
              "          ...,\n",
              "          [ 1.46899937e+179],\n",
              "          [ 5.49419094e-143],\n",
              "          [ 2.18228540e-094]],\n",
              "\n",
              "         [[ 1.94920675e-153],\n",
              "          [ 1.04915603e-153],\n",
              "          [ 2.59031262e-144],\n",
              "          ...,\n",
              "          [ 9.06707496e+271],\n",
              "          [ 1.94918964e-153],\n",
              "          [ 1.20253454e+285]],\n",
              "\n",
              "         [[ 3.27601652e+222],\n",
              "          [ 3.96041427e+246],\n",
              "          [ 6.11130817e+223],\n",
              "          ...,\n",
              "          [ 1.94920675e-153],\n",
              "          [ 1.35539822e+224],\n",
              "          [ 1.94920672e-153]],\n",
              "\n",
              "         [[ 1.04918677e-153],\n",
              "          [ 5.49617738e-143],\n",
              "          [ 2.59549724e+251],\n",
              "          ...,\n",
              "          [ 2.59903832e-144],\n",
              "          [ 4.27059546e-096],\n",
              "          [ 2.59903831e-144]],\n",
              "\n",
              "         [[ 2.47922141e-319],\n",
              "          [ 3.16251369e+180],\n",
              "          [ 1.16035672e+200],\n",
              "          ...,\n",
              "          [ 2.31112378e+021],\n",
              "          [ 2.10680078e+088],\n",
              "          [ 1.49932486e+151]]],\n",
              "\n",
              "\n",
              "        [[[ 7.39468357e+097],\n",
              "          [ 1.98799543e+045],\n",
              "          [ 3.74259990e+233],\n",
              "          ...,\n",
              "          [ 2.06674386e+151],\n",
              "          [ 6.36249308e+006],\n",
              "          [ 7.35423705e+223]],\n",
              "\n",
              "         [[ 1.27205090e+026],\n",
              "          [ 1.09535366e+127],\n",
              "          [ 7.35423705e+223],\n",
              "          ...,\n",
              "          [ 5.28596519e-085],\n",
              "          [ 1.91235311e+228],\n",
              "          [ 6.25245458e+102]],\n",
              "\n",
              "         [[ 1.44799925e+079],\n",
              "          [ 3.98384720e+252],\n",
              "          [ 9.93509634e-143],\n",
              "          ...,\n",
              "          [ 4.31264994e-096],\n",
              "          [ 3.27597791e+222],\n",
              "          [ 1.04917822e-153]],\n",
              "\n",
              "         [[ 7.87705057e+276],\n",
              "          [ 4.26008103e-319],\n",
              "          [ 0.00000000e+000],\n",
              "          ...,\n",
              "          [ 3.74259990e+233],\n",
              "          [ 3.74259990e+233],\n",
              "          [ 9.16526748e+242]],\n",
              "\n",
              "         [[ 2.18177314e+243],\n",
              "          [ 2.59345444e+161],\n",
              "          [ 1.33733642e+160],\n",
              "          ...,\n",
              "          [ 1.41767651e+190],\n",
              "          [ 1.33733642e+160],\n",
              "          [ 2.59027925e-144]]],\n",
              "\n",
              "\n",
              "        [[[ 4.30512763e-096],\n",
              "          [ 1.04917821e-153],\n",
              "          [ 2.59027919e-144],\n",
              "          ...,\n",
              "          [ 5.03439431e+180],\n",
              "          [ 7.01873799e-143],\n",
              "          [ 5.94769096e+228]],\n",
              "\n",
              "         [[ 1.36317873e+161],\n",
              "          [ 7.49498376e+247],\n",
              "          [ 4.81731690e+276],\n",
              "          ...,\n",
              "          [ 5.28596519e-085],\n",
              "          [ 4.31999007e-096],\n",
              "          [ 1.97498433e+166]],\n",
              "\n",
              "         [[ 3.74259990e+233],\n",
              "          [ 9.28601740e+242],\n",
              "          [ 1.04918447e-153],\n",
              "          ...,\n",
              "          [ 4.31909711e-096],\n",
              "          [ 2.59027864e-144],\n",
              "          [ 1.04915022e-153]],\n",
              "\n",
              "         [[ 9.75021609e+199],\n",
              "          [ 6.20422359e+223],\n",
              "          [ 4.30627779e-096],\n",
              "          ...,\n",
              "          [ 4.30627779e-096],\n",
              "          [ 6.68802128e+151],\n",
              "          [ 1.04918620e-153]],\n",
              "\n",
              "         [[ 3.27597791e+222],\n",
              "          [ 3.74259990e+233],\n",
              "          [ 3.76426737e+174],\n",
              "          ...,\n",
              "          [ 4.30627779e-096],\n",
              "          [ 4.82745794e+199],\n",
              "          [ 9.69723857e+189]]]],\n",
              "\n",
              "\n",
              "\n",
              "       [[[[ 2.59027921e-144],\n",
              "          [ 1.41414126e+190],\n",
              "          [ 1.04917820e-153],\n",
              "          ...,\n",
              "          [ 1.04917752e-153],\n",
              "          [ 2.59027910e-144],\n",
              "          [ 1.13224202e+277]],\n",
              "\n",
              "         [[ 5.28562263e+180],\n",
              "          [ 2.59027917e-144],\n",
              "          [ 5.28596519e-085],\n",
              "          ...,\n",
              "          [ 2.13945643e+161],\n",
              "          [ 1.61674052e+184],\n",
              "          [ 1.04918560e-153]],\n",
              "\n",
              "         [[ 4.30624923e-096],\n",
              "          [ 6.79316909e+199],\n",
              "          [ 1.19429300e-047],\n",
              "          ...,\n",
              "          [ 5.38210304e+228],\n",
              "          [ 7.79353623e-143],\n",
              "          [ 6.20585357e+228]],\n",
              "\n",
              "         [[ 3.29218405e+180],\n",
              "          [ 3.74259990e+233],\n",
              "          [ 1.61674052e+184],\n",
              "          ...,\n",
              "          [ 3.27597791e+222],\n",
              "          [ 3.33054513e+257],\n",
              "          [ 4.97462278e-143]],\n",
              "\n",
              "         [[ 2.51313104e+180],\n",
              "          [ 6.67644207e+151],\n",
              "          [ 4.31905802e-096],\n",
              "          ...,\n",
              "          [ 3.74259990e+233],\n",
              "          [ 5.28596519e-085],\n",
              "          [ 1.71182222e+262]]],\n",
              "\n",
              "\n",
              "        [[[ 8.89489803e+252],\n",
              "          [ 3.03331816e+180],\n",
              "          [ 5.82483021e+252],\n",
              "          ...,\n",
              "          [ 7.98578458e+151],\n",
              "          [ 1.04496340e-142],\n",
              "          [ 1.13007898e+277]],\n",
              "\n",
              "         [[ 5.28596519e-085],\n",
              "          [ 2.59027858e-144],\n",
              "          [ 4.30079163e-096],\n",
              "          ...,\n",
              "          [ 4.32449777e-096],\n",
              "          [ 2.59027925e-144],\n",
              "          [ 4.30627790e-096]],\n",
              "\n",
              "         [[ 5.28596519e-085],\n",
              "          [ 1.04918673e-153],\n",
              "          [ 3.27597791e+222],\n",
              "          ...,\n",
              "          [ 5.28596519e-085],\n",
              "          [ 3.74259990e+233],\n",
              "          [ 1.54607206e+262]],\n",
              "\n",
              "         [[ 3.27597791e+222],\n",
              "          [ 1.28091381e+213],\n",
              "          [ 7.37988019e+228],\n",
              "          ...,\n",
              "          [ 6.00567127e-143],\n",
              "          [ 5.34083717e+228],\n",
              "          [ 2.64429322e+180]],\n",
              "\n",
              "         [[ 5.60578750e+199],\n",
              "          [ 1.28091381e+213],\n",
              "          [ 5.28596519e-085],\n",
              "          ...,\n",
              "          [ 7.33726239e+223],\n",
              "          [ 3.74259990e+233],\n",
              "          [ 8.82880750e+199]]],\n",
              "\n",
              "\n",
              "        [[[ 2.59027914e-144],\n",
              "          [ 9.28614920e+242],\n",
              "          [ 5.03509509e+223],\n",
              "          ...,\n",
              "          [ 7.35280766e+223],\n",
              "          [ 1.04917877e-153],\n",
              "          [ 8.39459674e+217]],\n",
              "\n",
              "         [[ 4.54522481e+223],\n",
              "          [ 1.03459513e+219],\n",
              "          [ 1.88753590e+219],\n",
              "          ...,\n",
              "          [ 1.04917766e-153],\n",
              "          [ 2.59027906e-144],\n",
              "          [ 5.10482316e+276]],\n",
              "\n",
              "         [[ 1.14303493e+243],\n",
              "          [ 2.59027925e-144],\n",
              "          [ 5.50148292e+222],\n",
              "          ...,\n",
              "          [ 1.89124180e+219],\n",
              "          [ 6.46572285e+170],\n",
              "          [ 2.59027906e-144]],\n",
              "\n",
              "         [[ 3.60545185e+227],\n",
              "          [ 1.04918560e-153],\n",
              "          [ 9.30225813e+242],\n",
              "          ...,\n",
              "          [ 3.57432732e+161],\n",
              "          [ 4.32178317e-096],\n",
              "          [ 3.74259990e+233]],\n",
              "\n",
              "         [[ 5.28596519e-085],\n",
              "          [ 9.29797791e+199],\n",
              "          [ 9.77824795e+199],\n",
              "          ...,\n",
              "          [ 5.28596519e-085],\n",
              "          [ 4.02928303e-143],\n",
              "          [ 3.27597791e+222]]]]])"
            ]
          },
          "execution_count": 200,
          "metadata": {},
          "output_type": "execute_result"
        }
      ],
      "source": [
        "arr[..., -1:]"
      ]
    },
    {
      "cell_type": "code",
      "execution_count": null,
      "metadata": {
        "id": "3Hin3GN0E6hW"
      },
      "outputs": [],
      "source": [
        "# 예제\n",
        "# wait...."
      ]
    },
    {
      "cell_type": "markdown",
      "metadata": {
        "id": "16sa6YizE6hW"
      },
      "source": [
        "- 특정한 row 를 선택하고 싶다면 그냥 원하는 순서가 명시된 정수가 담긴 ndarray 나 list를 넘기면 된다."
      ]
    },
    {
      "cell_type": "code",
      "execution_count": null,
      "metadata": {
        "id": "xLykV0D2E6hX"
      },
      "outputs": [],
      "source": []
    },
    {
      "cell_type": "markdown",
      "metadata": {
        "id": "ioZH5B-6E6hX"
      },
      "source": [
        "## 1.6 벡터화 연산 적용하기\n",
        "- 배열의 여러 원소에 어떤 함수를 적용하고 싶다.\n",
        "- 함수를 벡터화 시킨후 적용한다.\n",
        "- vectorize 는 원소를 순회하는 for 루프를 구현한것으로 성능이 좋진 않다.\n",
        "- 브로드 캐스팅이 훨신 효율적이다."
      ]
    },
    {
      "cell_type": "code",
      "execution_count": null,
      "metadata": {
        "id": "gKLJwCZrE6hX"
      },
      "outputs": [],
      "source": [
        "# 행렬 생성\n",
        "mat_1 = np.array(range(1,10))"
      ]
    },
    {
      "cell_type": "code",
      "execution_count": null,
      "metadata": {
        "id": "HtNw5Z5xE6hX",
        "outputId": "f8b5dd72-f1da-483e-9e3d-f0c055af33f3"
      },
      "outputs": [
        {
          "data": {
            "text/plain": [
              "array([1, 2, 3, 4, 5, 6, 7, 8, 9])"
            ]
          },
          "execution_count": 207,
          "metadata": {},
          "output_type": "execute_result"
        }
      ],
      "source": [
        "mat_1"
      ]
    },
    {
      "cell_type": "code",
      "execution_count": null,
      "metadata": {
        "id": "cPbwEimDE6hX"
      },
      "outputs": [],
      "source": [
        "mat_2 = mat_1.reshape(3,3)"
      ]
    },
    {
      "cell_type": "code",
      "execution_count": null,
      "metadata": {
        "id": "BorXf5daE6hX"
      },
      "outputs": [],
      "source": [
        "add_10 = lambda i: i+10"
      ]
    },
    {
      "cell_type": "code",
      "execution_count": null,
      "metadata": {
        "id": "aTuBtfzZE6hX"
      },
      "outputs": [],
      "source": [
        "vec_add_10 = np.vectorize(add_10)"
      ]
    },
    {
      "cell_type": "code",
      "execution_count": null,
      "metadata": {
        "id": "iMBNmcw3E6hX",
        "outputId": "c0088a4e-62d9-445a-9cb0-7e15a5154dce"
      },
      "outputs": [
        {
          "data": {
            "text/plain": [
              "array([[11, 12, 13],\n",
              "       [14, 15, 16],\n",
              "       [17, 18, 19]])"
            ]
          },
          "execution_count": 211,
          "metadata": {},
          "output_type": "execute_result"
        }
      ],
      "source": [
        "vec_add_10(mat_2)"
      ]
    },
    {
      "cell_type": "code",
      "execution_count": null,
      "metadata": {
        "id": "cEPQjmZoE6hX",
        "outputId": "54986874-8954-4751-a791-e65b585d8e03"
      },
      "outputs": [
        {
          "data": {
            "text/plain": [
              "array([[11, 12, 13],\n",
              "       [14, 15, 16],\n",
              "       [17, 18, 19]])"
            ]
          },
          "execution_count": 212,
          "metadata": {},
          "output_type": "execute_result"
        }
      ],
      "source": [
        "mat_2 + 10"
      ]
    },
    {
      "cell_type": "markdown",
      "metadata": {
        "id": "t7Y0fHZ-E6hY"
      },
      "source": [
        "### 배열 전치와 축 바꾸기\n",
        "- 배열 전치는 데이터를 복사하지 않고 데이터의 모양이 바뀐 뷰를 반환하는 기능\n",
        "- 행과 열을 바꿔준다."
      ]
    },
    {
      "cell_type": "code",
      "execution_count": null,
      "metadata": {
        "id": "tLUQ6H6qE6hY"
      },
      "outputs": [],
      "source": [
        "# 참고 arr_1 = np.array(range(12)) 이상태에서는 transpose 가 되지 않는다. 바꿔줄 행과 열이 없다.\n",
        "arr_1 = np.array(range(12)).reshape(12,1)"
      ]
    },
    {
      "cell_type": "code",
      "execution_count": null,
      "metadata": {
        "id": "4SYrVaCME6hY",
        "outputId": "413ab81f-ef00-4eba-ba42-1d6983e7b872"
      },
      "outputs": [
        {
          "data": {
            "text/plain": [
              "(12, 1)"
            ]
          },
          "execution_count": 219,
          "metadata": {},
          "output_type": "execute_result"
        }
      ],
      "source": [
        "arr_1.shape"
      ]
    },
    {
      "cell_type": "code",
      "execution_count": null,
      "metadata": {
        "id": "z_gk0_VlE6hY",
        "outputId": "8de81f5c-04aa-4ec2-8627-ae5d06bc5643"
      },
      "outputs": [
        {
          "data": {
            "text/plain": [
              "(1, 12)"
            ]
          },
          "execution_count": 220,
          "metadata": {},
          "output_type": "execute_result"
        }
      ],
      "source": [
        "arr_1.T.shape"
      ]
    },
    {
      "cell_type": "code",
      "execution_count": null,
      "metadata": {
        "id": "Sth5m0QWE6hY",
        "outputId": "dd9a7139-b610-45b3-e5d3-a37586270456"
      },
      "outputs": [
        {
          "data": {
            "text/plain": [
              "array([[ 0],\n",
              "       [ 1],\n",
              "       [ 2],\n",
              "       [ 3],\n",
              "       [ 4],\n",
              "       [ 5],\n",
              "       [ 6],\n",
              "       [ 7],\n",
              "       [ 8],\n",
              "       [ 9],\n",
              "       [10],\n",
              "       [11]])"
            ]
          },
          "execution_count": 222,
          "metadata": {},
          "output_type": "execute_result"
        }
      ],
      "source": [
        "arr_1"
      ]
    },
    {
      "cell_type": "code",
      "execution_count": null,
      "metadata": {
        "id": "-gDsyMRJE6hY"
      },
      "outputs": [],
      "source": [
        "arr_1 = np.array(range(12)).reshape(3,4)"
      ]
    },
    {
      "cell_type": "code",
      "execution_count": null,
      "metadata": {
        "id": "8oWiB6kNE6hY",
        "outputId": "ae94e2b2-1400-40da-956b-1252fe9a4661"
      },
      "outputs": [
        {
          "data": {
            "text/plain": [
              "(4, 3)"
            ]
          },
          "execution_count": 225,
          "metadata": {},
          "output_type": "execute_result"
        }
      ],
      "source": [
        "arr_1.T.shape"
      ]
    },
    {
      "cell_type": "markdown",
      "metadata": {
        "id": "n9JWl3s1E6hY"
      },
      "source": [
        "### 난수를 이용해서 ndarray를 생성하는 방법 - 5가지 존재"
      ]
    },
    {
      "cell_type": "code",
      "execution_count": null,
      "metadata": {
        "id": "EjSs8_m-E6hZ"
      },
      "outputs": [],
      "source": []
    },
    {
      "cell_type": "markdown",
      "metadata": {
        "id": "TqIr6mCdE6hZ"
      },
      "source": [
        "- np.random.radint :균일 분포의 정수 난수 1개 생성\n",
        "- np.random.rand : 0부터 1사이의 균일 분포에서 난수 생성\n",
        "- np.random.rnadn : 가우시안 표준 정규 분포에서 난수 matrix array 생성"
      ]
    },
    {
      "cell_type": "code",
      "execution_count": null,
      "metadata": {
        "id": "C7GfJvC5E6hZ"
      },
      "outputs": [],
      "source": []
    },
    {
      "cell_type": "markdown",
      "metadata": {
        "id": "jppmbwsKE6hZ"
      },
      "source": [
        "## 유니버설 함수 :배열의 각원소를 빠르게 처리하는 함수\n",
        "- ufunc 이라고 불리기도 하는 유니버설 함수는 ndarray 안에 있는 데이터 원소별로 연산을 수행하는 함수 이다.\n",
        "- 유니버설 함수는 하나 이상의 스칼라 값을 받아서 하나 이상의 스칼라 결과값을 반환하는 간단한 함수를 고속으로 수행\n",
        "\n",
        "### 단항 유니버설 함수\n",
        "- exp, sqrt\n",
        "\n",
        "### 이항 유니버설 함수\n",
        "- maximum\n",
        "- minimum\n",
        "- add\n",
        "\n",
        "이외에 다양한 종류의 함수가 존재함"
      ]
    },
    {
      "cell_type": "code",
      "execution_count": null,
      "metadata": {
        "id": "y9EnZkyHE6hZ"
      },
      "outputs": [],
      "source": []
    },
    {
      "cell_type": "markdown",
      "metadata": {
        "id": "2OntyC2SE6hZ"
      },
      "source": [
        "## 배열지향 프로그래밍\n",
        "- Numpy 배열을 사용하면 반복문을 작성하지 않고 간결한 배열 연산을 사용해 많은 종류의 데이터 처리 작업을 할 수 있다.\n",
        "- 배열 연산을 사용해 반복문을 명시적으로 제거하는 기법을 벡터화 라고 한다."
      ]
    },
    {
      "cell_type": "code",
      "execution_count": null,
      "metadata": {
        "id": "Xsly-sz8E6hZ"
      },
      "outputs": [],
      "source": []
    },
    {
      "cell_type": "markdown",
      "metadata": {
        "id": "16KkpcCCE6hZ"
      },
      "source": [
        "- 위와 동일한 방법으로 반복문을 수행하면 큰 배열을 빠르게 처리 할수 없다.\n",
        "- 같은 결과를 내는 np.where 함수가 존재 한다."
      ]
    },
    {
      "cell_type": "code",
      "execution_count": null,
      "metadata": {
        "id": "oA13a4BTE6hZ"
      },
      "outputs": [],
      "source": []
    },
    {
      "cell_type": "markdown",
      "metadata": {
        "id": "_Z0IZi9jE6ha"
      },
      "source": [
        "### 수학 메서드와 통계 메서드\n",
        "- 합, 평균, 표준편차 를 구할수 있다.\n",
        "\n",
        "- sum : 배열 전체 혹은 특정 축에 대한 모든 원소의 합을 계산한다. 크기가 0 인 배열에 대한 sum 결과는 0 이다.\n",
        "- mean : 산술 평균을 구한다. 크기가 0인 배열에 대한 mean 결과는 Nan이다.\n",
        "- std, var : 각각 표준편차(std)와 분산(var)을 구한다. 선택적으로 자유도를 줄 수 있으며 분모의 기본 값은 n 이다.\n",
        "- min, max :최솟값과 최댓값\n",
        "- argmin, argmax : 최소 원소의 색인값과 최대 원소의 색인값\n",
        "- cumsum : 각 원소의 누적합\n",
        "- cumprod : 각 원소의 누적곱"
      ]
    },
    {
      "cell_type": "code",
      "execution_count": null,
      "metadata": {
        "id": "2jhU_WtuE6ha"
      },
      "outputs": [],
      "source": []
    },
    {
      "cell_type": "markdown",
      "metadata": {
        "id": "I5XhHTXRE6ha"
      },
      "source": [
        "### 블리언 배열을 위한 메서드"
      ]
    },
    {
      "cell_type": "code",
      "execution_count": null,
      "metadata": {
        "id": "wrcGnRxoE6ha"
      },
      "outputs": [],
      "source": []
    },
    {
      "cell_type": "markdown",
      "metadata": {
        "id": "hAPOkE3lE6ha"
      },
      "source": [
        "- any와 all 메서드는 불리언 배열에 유용하다.\n",
        "- any : 하나 이상의 값이 True 인지 검사\n",
        "- all : 모든 원소가 True 인지 검사"
      ]
    },
    {
      "cell_type": "code",
      "execution_count": null,
      "metadata": {
        "id": "z_DkvwdGE6ha"
      },
      "outputs": [],
      "source": []
    },
    {
      "cell_type": "markdown",
      "metadata": {
        "id": "3SgNAWueE6ha"
      },
      "source": [
        "### 정렬"
      ]
    },
    {
      "cell_type": "code",
      "execution_count": null,
      "metadata": {
        "id": "pv2TQQ6sE6hb"
      },
      "outputs": [],
      "source": []
    },
    {
      "cell_type": "markdown",
      "metadata": {
        "id": "ErfN19n0E6hb"
      },
      "source": [
        "### 집합 관련함수\n",
        "- numpy는 1차원 ndarray를 위한 몇 가지 기본적인 집합 연산을 제공한다.\n",
        "    - unique : 중복된 원소릴 제거한뒤 정렬하여 반환\n",
        "    - intersec1d : 배열 x와 y에 중복\n",
        "    - union1d : 두 배열의 합집합\n",
        "    - setdiff1d :두 배열의 차집합"
      ]
    },
    {
      "cell_type": "code",
      "execution_count": null,
      "metadata": {
        "id": "NePxqCLUE6hb"
      },
      "outputs": [],
      "source": []
    },
    {
      "cell_type": "markdown",
      "metadata": {
        "id": "F9Op-_J0E6hb"
      },
      "source": [
        "## 배열 데이터의 파일 입출력\n",
        "- np.save\n",
        "- np.load"
      ]
    },
    {
      "cell_type": "code",
      "execution_count": null,
      "metadata": {
        "id": "8Hi9xjqnE6hb"
      },
      "outputs": [],
      "source": []
    },
    {
      "cell_type": "markdown",
      "metadata": {
        "id": "4o4D3WI0E6hb"
      },
      "source": [
        "- 여러개의 배열을 압축된 형태로 저장\n",
        "    - np.savez\n",
        "    - np.savez_compressed\n",
        "    - 두개가 비슷한듯"
      ]
    },
    {
      "cell_type": "code",
      "execution_count": null,
      "metadata": {
        "id": "xehMl34ME6hc"
      },
      "outputs": [],
      "source": []
    },
    {
      "cell_type": "markdown",
      "metadata": {
        "id": "Sdq9bwWfE6hc"
      },
      "source": [
        "## 선형대수\n",
        "- 행렬의 곱셈, 분할, 행렬식에 관한 연산을 알아보자.\n"
      ]
    },
    {
      "cell_type": "code",
      "execution_count": null,
      "metadata": {
        "id": "oI0WZghoE6hc"
      },
      "outputs": [],
      "source": []
    },
    {
      "cell_type": "markdown",
      "metadata": {
        "id": "ngMlnUQyE6hc"
      },
      "source": [
        "### linalg 모듈\n",
        "- 행렬의 분할과 역행렬, 행렬식과 같은 함수를 포함하고 있다.\n",
        "\n",
        "- diag : 정사각 행렬의 대각/비대각 원소를 1차원 배열로 반환하거나, 1차원 대각선 원소로 하고 나머지는 0으로 채운 단위행렬을 반환한다.\n",
        "- dot : 행렬 곱셈\n",
        "- trace : 행렬의 대각선 원소의 합을 계산 한다.\n",
        "- det : 행렬식을 계산한다.\n",
        "- eig : 정사각 행렬의 고윳값과 고유 벡터를 계산하다.\n",
        "- inv : 정사각 행렬의 역행렬을 계산한다.\n",
        "- qr : QR분해를 계산한다.\n",
        "- svd : 특잇값 분해(SVD)를 계산한다.\n",
        "- solve : A가 정사각 행렬일때 Ax = b를 만족하는 x를 구한다.\n",
        "- lstsq : Ax = b 를 만족하는 최소 제곱해를 구한다.\n",
        "\n",
        "http://elearning.kocw.net/contents4/document/lec/2013/Chungbuk/LeeGeonmyeong1/13.pdf"
      ]
    },
    {
      "cell_type": "markdown",
      "metadata": {
        "id": "3Vhve1n5E6hc"
      },
      "source": [
        "- 점곱 계산"
      ]
    },
    {
      "cell_type": "code",
      "execution_count": null,
      "metadata": {
        "id": "di9jrfu2E6hd"
      },
      "outputs": [],
      "source": []
    },
    {
      "cell_type": "markdown",
      "metadata": {
        "id": "P8rzqHqSE6hd"
      },
      "source": [
        "- 행렬 덧셈과 뺄셈"
      ]
    },
    {
      "cell_type": "code",
      "execution_count": null,
      "metadata": {
        "id": "oKCeWApdE6he"
      },
      "outputs": [],
      "source": []
    },
    {
      "cell_type": "markdown",
      "metadata": {
        "id": "b9A7KPqUE6he"
      },
      "source": [
        "- 행렬 곱셈"
      ]
    },
    {
      "cell_type": "code",
      "execution_count": null,
      "metadata": {
        "id": "mZHI6I-EE6he"
      },
      "outputs": [],
      "source": []
    },
    {
      "cell_type": "markdown",
      "metadata": {
        "id": "SbaHr8WQE6he"
      },
      "source": [
        "- 역행렬\n",
        "    - 정방행렬의 역행렬 계산"
      ]
    },
    {
      "cell_type": "code",
      "execution_count": null,
      "metadata": {
        "id": "QzbG7nC7E6he"
      },
      "outputs": [],
      "source": []
    },
    {
      "cell_type": "markdown",
      "metadata": {
        "id": "F9We5IlHE6hf"
      },
      "source": [
        "- 행렬의 랭크 구하기"
      ]
    },
    {
      "cell_type": "code",
      "execution_count": null,
      "metadata": {
        "id": "wpQ5xCzEE6hf"
      },
      "outputs": [],
      "source": []
    },
    {
      "cell_type": "markdown",
      "metadata": {
        "id": "orxhAXyfE6hf"
      },
      "source": [
        "- rank 는 선형 독립적인 행 또는 열의 개수. 특이값 분해를 통해서 계산한다.\n",
        "- ndim 은 행렬의 차원만을 나타낸다."
      ]
    },
    {
      "cell_type": "code",
      "execution_count": null,
      "metadata": {
        "id": "nyQPFyCOE6hf"
      },
      "outputs": [],
      "source": []
    },
    {
      "cell_type": "markdown",
      "metadata": {
        "id": "RZI6617AE6hf"
      },
      "source": [
        "- 행렬식 계산하기"
      ]
    },
    {
      "cell_type": "code",
      "execution_count": null,
      "metadata": {
        "id": "Lb0UYr2SE6hg"
      },
      "outputs": [],
      "source": []
    },
    {
      "cell_type": "markdown",
      "metadata": {
        "id": "CJ4dc3lJE6hg"
      },
      "source": [
        "- 행렬의 대각 원소 추출하기"
      ]
    },
    {
      "cell_type": "code",
      "execution_count": null,
      "metadata": {
        "id": "K2ZC_9VwE6hl"
      },
      "outputs": [],
      "source": []
    },
    {
      "cell_type": "markdown",
      "metadata": {
        "id": "t-rwR5pdE6hl"
      },
      "source": [
        "# 고급 Numpy"
      ]
    },
    {
      "cell_type": "markdown",
      "metadata": {
        "id": "gJ5PRLhNE6hl"
      },
      "source": [
        "## ndarray배열 재형성 하기\n",
        "- 배열의 모양을 변환하려면 배열의 인스턴스 메서드인 reshape 메서드에 새로운 모양을 나타내는 튜플을 넘기면 된다."
      ]
    },
    {
      "cell_type": "code",
      "execution_count": null,
      "metadata": {
        "id": "0HXdFU64E6hl"
      },
      "outputs": [],
      "source": []
    },
    {
      "cell_type": "markdown",
      "metadata": {
        "id": "CsMj2cZ2E6hl"
      },
      "source": [
        "- reshape 에 넘기는 값 중 하나가 -1이 될 수도 있는데 이경우에는 원본 데이터를 참조해서 적절한 값을 추론하게 된다.\n",
        "- -1은 가능한 많이라는 의미로 사용된다.\n",
        "- magic keyword"
      ]
    },
    {
      "cell_type": "code",
      "execution_count": null,
      "metadata": {
        "id": "CxwRnIfjE6hm"
      },
      "outputs": [],
      "source": []
    },
    {
      "cell_type": "markdown",
      "metadata": {
        "id": "npFuRcZtE6hm"
      },
      "source": [
        "- 다차원 배열을 낮은 차원으로 변환하는 것은 **평탄화** 라고 한다."
      ]
    },
    {
      "cell_type": "code",
      "execution_count": null,
      "metadata": {
        "id": "-MJ5jMfDE6hm"
      },
      "outputs": [],
      "source": []
    },
    {
      "cell_type": "markdown",
      "metadata": {
        "id": "_Ny6kHwIE6hm"
      },
      "source": [
        "# 배열 이어붙이고 나누기"
      ]
    },
    {
      "cell_type": "code",
      "execution_count": null,
      "metadata": {
        "id": "9ZyU8VYWE6hm"
      },
      "outputs": [],
      "source": []
    },
    {
      "cell_type": "markdown",
      "metadata": {
        "id": "eraUDS9gE6hm"
      },
      "source": [
        "### 브로드캐스팅\n",
        "- 브로드캐스팅은 다른 모양의 배열 간의 산술 연산을 어떻게 수행해야 하는지 설명한다."
      ]
    },
    {
      "cell_type": "code",
      "execution_count": null,
      "metadata": {
        "id": "z-DFUwtTE6hm"
      },
      "outputs": [],
      "source": []
    },
    {
      "cell_type": "markdown",
      "metadata": {
        "id": "UWGGT0T-E6hm"
      },
      "source": [
        "- 여기서 스칼라 값 4는 곱셈 연산 과정에서 배열의 모든 원소로 브로드캐스트 되었다."
      ]
    },
    {
      "cell_type": "code",
      "execution_count": null,
      "metadata": {
        "id": "zyPUDFeiE6hn"
      },
      "outputs": [],
      "source": []
    },
    {
      "cell_type": "markdown",
      "metadata": {
        "id": "HRInRxN-E6hn"
      },
      "source": [
        "#### 브로드캐스팅 규칙\n",
        "- 각차원에 대해 축의 길이가 일치하거나 둘 중 하나의 길이가 1이라면 두 배열은 브로드 캐스팅 호환이다."
      ]
    },
    {
      "cell_type": "code",
      "execution_count": null,
      "metadata": {
        "id": "7Y85aOD1E6hn"
      },
      "outputs": [],
      "source": []
    }
  ],
  "metadata": {
    "kernelspec": {
      "display_name": "Python 3.10.6 64-bit",
      "language": "python",
      "name": "python3"
    },
    "language_info": {
      "codemirror_mode": {
        "name": "ipython",
        "version": 3
      },
      "file_extension": ".py",
      "mimetype": "text/x-python",
      "name": "python",
      "nbconvert_exporter": "python",
      "pygments_lexer": "ipython3",
      "version": "3.10.6"
    },
    "vscode": {
      "interpreter": {
        "hash": "916dbcbb3f70747c44a77c7bcd40155683ae19c65e1c03b4aa3499c5328201f1"
      }
    },
    "colab": {
      "provenance": [],
      "include_colab_link": true
    }
  },
  "nbformat": 4,
  "nbformat_minor": 0
}